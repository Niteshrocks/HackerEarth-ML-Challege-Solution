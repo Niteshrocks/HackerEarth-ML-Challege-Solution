{
  "nbformat": 4,
  "nbformat_minor": 0,
  "metadata": {
    "kernelspec": {
      "name": "python3",
      "display_name": "Python 3"
    },
    "colab": {
      "name": "Hackearth MOM.ipynb",
      "provenance": [],
      "collapsed_sections": [],
      "toc_visible": true
    },
    "widgets": {
      "application/vnd.jupyter.widget-state+json": {
        "40fb47e219ea4a96a336e78959bb2dff": {
          "model_module": "@jupyter-widgets/controls",
          "model_name": "HBoxModel",
          "state": {
            "_view_name": "HBoxView",
            "_dom_classes": [],
            "_model_name": "HBoxModel",
            "_view_module": "@jupyter-widgets/controls",
            "_model_module_version": "1.5.0",
            "_view_count": null,
            "_view_module_version": "1.5.0",
            "box_style": "",
            "layout": "IPY_MODEL_a8f357035671411f9f43a131c8f6fe14",
            "_model_module": "@jupyter-widgets/controls",
            "children": [
              "IPY_MODEL_eec120220dd14f8a8ec7ab12c28b9196",
              "IPY_MODEL_a84115cb7e7f4a208b3bc5c05cf3182a"
            ]
          }
        },
        "a8f357035671411f9f43a131c8f6fe14": {
          "model_module": "@jupyter-widgets/base",
          "model_name": "LayoutModel",
          "state": {
            "_view_name": "LayoutView",
            "grid_template_rows": null,
            "right": null,
            "justify_content": null,
            "_view_module": "@jupyter-widgets/base",
            "overflow": null,
            "_model_module_version": "1.2.0",
            "_view_count": null,
            "flex_flow": null,
            "width": null,
            "min_width": null,
            "border": null,
            "align_items": null,
            "bottom": null,
            "_model_module": "@jupyter-widgets/base",
            "top": null,
            "grid_column": null,
            "overflow_y": null,
            "overflow_x": null,
            "grid_auto_flow": null,
            "grid_area": null,
            "grid_template_columns": null,
            "flex": null,
            "_model_name": "LayoutModel",
            "justify_items": null,
            "grid_row": null,
            "max_height": null,
            "align_content": null,
            "visibility": null,
            "align_self": null,
            "height": null,
            "min_height": null,
            "padding": null,
            "grid_auto_rows": null,
            "grid_gap": null,
            "max_width": null,
            "order": null,
            "_view_module_version": "1.2.0",
            "grid_template_areas": null,
            "object_position": null,
            "object_fit": null,
            "grid_auto_columns": null,
            "margin": null,
            "display": null,
            "left": null
          }
        },
        "eec120220dd14f8a8ec7ab12c28b9196": {
          "model_module": "@jupyter-widgets/controls",
          "model_name": "FloatProgressModel",
          "state": {
            "_view_name": "ProgressView",
            "style": "IPY_MODEL_a962ba1a63ab4717b4eec2a6f9de1603",
            "_dom_classes": [],
            "description": "100%",
            "_model_name": "FloatProgressModel",
            "bar_style": "success",
            "max": 4622,
            "_view_module": "@jupyter-widgets/controls",
            "_model_module_version": "1.5.0",
            "value": 4622,
            "_view_count": null,
            "_view_module_version": "1.5.0",
            "orientation": "horizontal",
            "min": 0,
            "description_tooltip": null,
            "_model_module": "@jupyter-widgets/controls",
            "layout": "IPY_MODEL_453efb16560a4c8096e63b3425696bac"
          }
        },
        "a84115cb7e7f4a208b3bc5c05cf3182a": {
          "model_module": "@jupyter-widgets/controls",
          "model_name": "HTMLModel",
          "state": {
            "_view_name": "HTMLView",
            "style": "IPY_MODEL_5032076e2939487bad098b5fdbfc51a6",
            "_dom_classes": [],
            "description": "",
            "_model_name": "HTMLModel",
            "placeholder": "​",
            "_view_module": "@jupyter-widgets/controls",
            "_model_module_version": "1.5.0",
            "value": " 4622/4622 [00:35&lt;00:00, 129.28it/s]",
            "_view_count": null,
            "_view_module_version": "1.5.0",
            "description_tooltip": null,
            "_model_module": "@jupyter-widgets/controls",
            "layout": "IPY_MODEL_31d33cdacaec4823b343d01aed93039b"
          }
        },
        "a962ba1a63ab4717b4eec2a6f9de1603": {
          "model_module": "@jupyter-widgets/controls",
          "model_name": "ProgressStyleModel",
          "state": {
            "_view_name": "StyleView",
            "_model_name": "ProgressStyleModel",
            "description_width": "initial",
            "_view_module": "@jupyter-widgets/base",
            "_model_module_version": "1.5.0",
            "_view_count": null,
            "_view_module_version": "1.2.0",
            "bar_color": null,
            "_model_module": "@jupyter-widgets/controls"
          }
        },
        "453efb16560a4c8096e63b3425696bac": {
          "model_module": "@jupyter-widgets/base",
          "model_name": "LayoutModel",
          "state": {
            "_view_name": "LayoutView",
            "grid_template_rows": null,
            "right": null,
            "justify_content": null,
            "_view_module": "@jupyter-widgets/base",
            "overflow": null,
            "_model_module_version": "1.2.0",
            "_view_count": null,
            "flex_flow": null,
            "width": null,
            "min_width": null,
            "border": null,
            "align_items": null,
            "bottom": null,
            "_model_module": "@jupyter-widgets/base",
            "top": null,
            "grid_column": null,
            "overflow_y": null,
            "overflow_x": null,
            "grid_auto_flow": null,
            "grid_area": null,
            "grid_template_columns": null,
            "flex": null,
            "_model_name": "LayoutModel",
            "justify_items": null,
            "grid_row": null,
            "max_height": null,
            "align_content": null,
            "visibility": null,
            "align_self": null,
            "height": null,
            "min_height": null,
            "padding": null,
            "grid_auto_rows": null,
            "grid_gap": null,
            "max_width": null,
            "order": null,
            "_view_module_version": "1.2.0",
            "grid_template_areas": null,
            "object_position": null,
            "object_fit": null,
            "grid_auto_columns": null,
            "margin": null,
            "display": null,
            "left": null
          }
        },
        "5032076e2939487bad098b5fdbfc51a6": {
          "model_module": "@jupyter-widgets/controls",
          "model_name": "DescriptionStyleModel",
          "state": {
            "_view_name": "StyleView",
            "_model_name": "DescriptionStyleModel",
            "description_width": "",
            "_view_module": "@jupyter-widgets/base",
            "_model_module_version": "1.5.0",
            "_view_count": null,
            "_view_module_version": "1.2.0",
            "_model_module": "@jupyter-widgets/controls"
          }
        },
        "31d33cdacaec4823b343d01aed93039b": {
          "model_module": "@jupyter-widgets/base",
          "model_name": "LayoutModel",
          "state": {
            "_view_name": "LayoutView",
            "grid_template_rows": null,
            "right": null,
            "justify_content": null,
            "_view_module": "@jupyter-widgets/base",
            "overflow": null,
            "_model_module_version": "1.2.0",
            "_view_count": null,
            "flex_flow": null,
            "width": null,
            "min_width": null,
            "border": null,
            "align_items": null,
            "bottom": null,
            "_model_module": "@jupyter-widgets/base",
            "top": null,
            "grid_column": null,
            "overflow_y": null,
            "overflow_x": null,
            "grid_auto_flow": null,
            "grid_area": null,
            "grid_template_columns": null,
            "flex": null,
            "_model_name": "LayoutModel",
            "justify_items": null,
            "grid_row": null,
            "max_height": null,
            "align_content": null,
            "visibility": null,
            "align_self": null,
            "height": null,
            "min_height": null,
            "padding": null,
            "grid_auto_rows": null,
            "grid_gap": null,
            "max_width": null,
            "order": null,
            "_view_module_version": "1.2.0",
            "grid_template_areas": null,
            "object_position": null,
            "object_fit": null,
            "grid_auto_columns": null,
            "margin": null,
            "display": null,
            "left": null
          }
        },
        "2ad751b560684389ab0332d1c97167ff": {
          "model_module": "@jupyter-widgets/controls",
          "model_name": "HBoxModel",
          "state": {
            "_view_name": "HBoxView",
            "_dom_classes": [],
            "_model_name": "HBoxModel",
            "_view_module": "@jupyter-widgets/controls",
            "_model_module_version": "1.5.0",
            "_view_count": null,
            "_view_module_version": "1.5.0",
            "box_style": "",
            "layout": "IPY_MODEL_a750eb7f37aa49e9bb73475f1e12d47d",
            "_model_module": "@jupyter-widgets/controls",
            "children": [
              "IPY_MODEL_d0ef48c3ff70420ab5c4eac35cafcf32",
              "IPY_MODEL_13eab3992c20483187fa004645082d6f"
            ]
          }
        },
        "a750eb7f37aa49e9bb73475f1e12d47d": {
          "model_module": "@jupyter-widgets/base",
          "model_name": "LayoutModel",
          "state": {
            "_view_name": "LayoutView",
            "grid_template_rows": null,
            "right": null,
            "justify_content": null,
            "_view_module": "@jupyter-widgets/base",
            "overflow": null,
            "_model_module_version": "1.2.0",
            "_view_count": null,
            "flex_flow": null,
            "width": null,
            "min_width": null,
            "border": null,
            "align_items": null,
            "bottom": null,
            "_model_module": "@jupyter-widgets/base",
            "top": null,
            "grid_column": null,
            "overflow_y": null,
            "overflow_x": null,
            "grid_auto_flow": null,
            "grid_area": null,
            "grid_template_columns": null,
            "flex": null,
            "_model_name": "LayoutModel",
            "justify_items": null,
            "grid_row": null,
            "max_height": null,
            "align_content": null,
            "visibility": null,
            "align_self": null,
            "height": null,
            "min_height": null,
            "padding": null,
            "grid_auto_rows": null,
            "grid_gap": null,
            "max_width": null,
            "order": null,
            "_view_module_version": "1.2.0",
            "grid_template_areas": null,
            "object_position": null,
            "object_fit": null,
            "grid_auto_columns": null,
            "margin": null,
            "display": null,
            "left": null
          }
        },
        "d0ef48c3ff70420ab5c4eac35cafcf32": {
          "model_module": "@jupyter-widgets/controls",
          "model_name": "FloatProgressModel",
          "state": {
            "_view_name": "ProgressView",
            "style": "IPY_MODEL_99b63f9347af4aa1847d8b0049d22d09",
            "_dom_classes": [],
            "description": "100%",
            "_model_name": "FloatProgressModel",
            "bar_style": "success",
            "max": 4622,
            "_view_module": "@jupyter-widgets/controls",
            "_model_module_version": "1.5.0",
            "value": 4622,
            "_view_count": null,
            "_view_module_version": "1.5.0",
            "orientation": "horizontal",
            "min": 0,
            "description_tooltip": null,
            "_model_module": "@jupyter-widgets/controls",
            "layout": "IPY_MODEL_1c8d4e6d66414dad8f51c03ede0ad8af"
          }
        },
        "13eab3992c20483187fa004645082d6f": {
          "model_module": "@jupyter-widgets/controls",
          "model_name": "HTMLModel",
          "state": {
            "_view_name": "HTMLView",
            "style": "IPY_MODEL_10a5d762e053449e8f253f643905a272",
            "_dom_classes": [],
            "description": "",
            "_model_name": "HTMLModel",
            "placeholder": "​",
            "_view_module": "@jupyter-widgets/controls",
            "_model_module_version": "1.5.0",
            "value": " 4622/4622 [00:00&lt;00:00, 15922.83it/s]",
            "_view_count": null,
            "_view_module_version": "1.5.0",
            "description_tooltip": null,
            "_model_module": "@jupyter-widgets/controls",
            "layout": "IPY_MODEL_d60bd90323dc4300b52e5827c69186b3"
          }
        },
        "99b63f9347af4aa1847d8b0049d22d09": {
          "model_module": "@jupyter-widgets/controls",
          "model_name": "ProgressStyleModel",
          "state": {
            "_view_name": "StyleView",
            "_model_name": "ProgressStyleModel",
            "description_width": "initial",
            "_view_module": "@jupyter-widgets/base",
            "_model_module_version": "1.5.0",
            "_view_count": null,
            "_view_module_version": "1.2.0",
            "bar_color": null,
            "_model_module": "@jupyter-widgets/controls"
          }
        },
        "1c8d4e6d66414dad8f51c03ede0ad8af": {
          "model_module": "@jupyter-widgets/base",
          "model_name": "LayoutModel",
          "state": {
            "_view_name": "LayoutView",
            "grid_template_rows": null,
            "right": null,
            "justify_content": null,
            "_view_module": "@jupyter-widgets/base",
            "overflow": null,
            "_model_module_version": "1.2.0",
            "_view_count": null,
            "flex_flow": null,
            "width": null,
            "min_width": null,
            "border": null,
            "align_items": null,
            "bottom": null,
            "_model_module": "@jupyter-widgets/base",
            "top": null,
            "grid_column": null,
            "overflow_y": null,
            "overflow_x": null,
            "grid_auto_flow": null,
            "grid_area": null,
            "grid_template_columns": null,
            "flex": null,
            "_model_name": "LayoutModel",
            "justify_items": null,
            "grid_row": null,
            "max_height": null,
            "align_content": null,
            "visibility": null,
            "align_self": null,
            "height": null,
            "min_height": null,
            "padding": null,
            "grid_auto_rows": null,
            "grid_gap": null,
            "max_width": null,
            "order": null,
            "_view_module_version": "1.2.0",
            "grid_template_areas": null,
            "object_position": null,
            "object_fit": null,
            "grid_auto_columns": null,
            "margin": null,
            "display": null,
            "left": null
          }
        },
        "10a5d762e053449e8f253f643905a272": {
          "model_module": "@jupyter-widgets/controls",
          "model_name": "DescriptionStyleModel",
          "state": {
            "_view_name": "StyleView",
            "_model_name": "DescriptionStyleModel",
            "description_width": "",
            "_view_module": "@jupyter-widgets/base",
            "_model_module_version": "1.5.0",
            "_view_count": null,
            "_view_module_version": "1.2.0",
            "_model_module": "@jupyter-widgets/controls"
          }
        },
        "d60bd90323dc4300b52e5827c69186b3": {
          "model_module": "@jupyter-widgets/base",
          "model_name": "LayoutModel",
          "state": {
            "_view_name": "LayoutView",
            "grid_template_rows": null,
            "right": null,
            "justify_content": null,
            "_view_module": "@jupyter-widgets/base",
            "overflow": null,
            "_model_module_version": "1.2.0",
            "_view_count": null,
            "flex_flow": null,
            "width": null,
            "min_width": null,
            "border": null,
            "align_items": null,
            "bottom": null,
            "_model_module": "@jupyter-widgets/base",
            "top": null,
            "grid_column": null,
            "overflow_y": null,
            "overflow_x": null,
            "grid_auto_flow": null,
            "grid_area": null,
            "grid_template_columns": null,
            "flex": null,
            "_model_name": "LayoutModel",
            "justify_items": null,
            "grid_row": null,
            "max_height": null,
            "align_content": null,
            "visibility": null,
            "align_self": null,
            "height": null,
            "min_height": null,
            "padding": null,
            "grid_auto_rows": null,
            "grid_gap": null,
            "max_width": null,
            "order": null,
            "_view_module_version": "1.2.0",
            "grid_template_areas": null,
            "object_position": null,
            "object_fit": null,
            "grid_auto_columns": null,
            "margin": null,
            "display": null,
            "left": null
          }
        },
        "00fc4f7c43eb408bace895767dd93185": {
          "model_module": "@jupyter-widgets/controls",
          "model_name": "HBoxModel",
          "state": {
            "_view_name": "HBoxView",
            "_dom_classes": [],
            "_model_name": "HBoxModel",
            "_view_module": "@jupyter-widgets/controls",
            "_model_module_version": "1.5.0",
            "_view_count": null,
            "_view_module_version": "1.5.0",
            "box_style": "",
            "layout": "IPY_MODEL_5c0bc16d9e6b483faf5d611130409e3c",
            "_model_module": "@jupyter-widgets/controls",
            "children": [
              "IPY_MODEL_4e7f59a63b324425aa7f53510b054e47",
              "IPY_MODEL_5db0408bf7c2483c9eff3edf6220bc87"
            ]
          }
        },
        "5c0bc16d9e6b483faf5d611130409e3c": {
          "model_module": "@jupyter-widgets/base",
          "model_name": "LayoutModel",
          "state": {
            "_view_name": "LayoutView",
            "grid_template_rows": null,
            "right": null,
            "justify_content": null,
            "_view_module": "@jupyter-widgets/base",
            "overflow": null,
            "_model_module_version": "1.2.0",
            "_view_count": null,
            "flex_flow": null,
            "width": null,
            "min_width": null,
            "border": null,
            "align_items": null,
            "bottom": null,
            "_model_module": "@jupyter-widgets/base",
            "top": null,
            "grid_column": null,
            "overflow_y": null,
            "overflow_x": null,
            "grid_auto_flow": null,
            "grid_area": null,
            "grid_template_columns": null,
            "flex": null,
            "_model_name": "LayoutModel",
            "justify_items": null,
            "grid_row": null,
            "max_height": null,
            "align_content": null,
            "visibility": null,
            "align_self": null,
            "height": null,
            "min_height": null,
            "padding": null,
            "grid_auto_rows": null,
            "grid_gap": null,
            "max_width": null,
            "order": null,
            "_view_module_version": "1.2.0",
            "grid_template_areas": null,
            "object_position": null,
            "object_fit": null,
            "grid_auto_columns": null,
            "margin": null,
            "display": null,
            "left": null
          }
        },
        "4e7f59a63b324425aa7f53510b054e47": {
          "model_module": "@jupyter-widgets/controls",
          "model_name": "FloatProgressModel",
          "state": {
            "_view_name": "ProgressView",
            "style": "IPY_MODEL_3c66279bbc334186ba3059ef92b39701",
            "_dom_classes": [],
            "description": "100%",
            "_model_name": "FloatProgressModel",
            "bar_style": "success",
            "max": 4622,
            "_view_module": "@jupyter-widgets/controls",
            "_model_module_version": "1.5.0",
            "value": 4622,
            "_view_count": null,
            "_view_module_version": "1.5.0",
            "orientation": "horizontal",
            "min": 0,
            "description_tooltip": null,
            "_model_module": "@jupyter-widgets/controls",
            "layout": "IPY_MODEL_9759bb6b29c64305bc4cf4d6ee43f800"
          }
        },
        "5db0408bf7c2483c9eff3edf6220bc87": {
          "model_module": "@jupyter-widgets/controls",
          "model_name": "HTMLModel",
          "state": {
            "_view_name": "HTMLView",
            "style": "IPY_MODEL_db0603691ec2492e9530b761b17a56ff",
            "_dom_classes": [],
            "description": "",
            "_model_name": "HTMLModel",
            "placeholder": "​",
            "_view_module": "@jupyter-widgets/controls",
            "_model_module_version": "1.5.0",
            "value": " 4622/4622 [00:00&lt;00:00, 22749.98it/s]",
            "_view_count": null,
            "_view_module_version": "1.5.0",
            "description_tooltip": null,
            "_model_module": "@jupyter-widgets/controls",
            "layout": "IPY_MODEL_340b461cab6045f489f4993b94b7ede8"
          }
        },
        "3c66279bbc334186ba3059ef92b39701": {
          "model_module": "@jupyter-widgets/controls",
          "model_name": "ProgressStyleModel",
          "state": {
            "_view_name": "StyleView",
            "_model_name": "ProgressStyleModel",
            "description_width": "initial",
            "_view_module": "@jupyter-widgets/base",
            "_model_module_version": "1.5.0",
            "_view_count": null,
            "_view_module_version": "1.2.0",
            "bar_color": null,
            "_model_module": "@jupyter-widgets/controls"
          }
        },
        "9759bb6b29c64305bc4cf4d6ee43f800": {
          "model_module": "@jupyter-widgets/base",
          "model_name": "LayoutModel",
          "state": {
            "_view_name": "LayoutView",
            "grid_template_rows": null,
            "right": null,
            "justify_content": null,
            "_view_module": "@jupyter-widgets/base",
            "overflow": null,
            "_model_module_version": "1.2.0",
            "_view_count": null,
            "flex_flow": null,
            "width": null,
            "min_width": null,
            "border": null,
            "align_items": null,
            "bottom": null,
            "_model_module": "@jupyter-widgets/base",
            "top": null,
            "grid_column": null,
            "overflow_y": null,
            "overflow_x": null,
            "grid_auto_flow": null,
            "grid_area": null,
            "grid_template_columns": null,
            "flex": null,
            "_model_name": "LayoutModel",
            "justify_items": null,
            "grid_row": null,
            "max_height": null,
            "align_content": null,
            "visibility": null,
            "align_self": null,
            "height": null,
            "min_height": null,
            "padding": null,
            "grid_auto_rows": null,
            "grid_gap": null,
            "max_width": null,
            "order": null,
            "_view_module_version": "1.2.0",
            "grid_template_areas": null,
            "object_position": null,
            "object_fit": null,
            "grid_auto_columns": null,
            "margin": null,
            "display": null,
            "left": null
          }
        },
        "db0603691ec2492e9530b761b17a56ff": {
          "model_module": "@jupyter-widgets/controls",
          "model_name": "DescriptionStyleModel",
          "state": {
            "_view_name": "StyleView",
            "_model_name": "DescriptionStyleModel",
            "description_width": "",
            "_view_module": "@jupyter-widgets/base",
            "_model_module_version": "1.5.0",
            "_view_count": null,
            "_view_module_version": "1.2.0",
            "_model_module": "@jupyter-widgets/controls"
          }
        },
        "340b461cab6045f489f4993b94b7ede8": {
          "model_module": "@jupyter-widgets/base",
          "model_name": "LayoutModel",
          "state": {
            "_view_name": "LayoutView",
            "grid_template_rows": null,
            "right": null,
            "justify_content": null,
            "_view_module": "@jupyter-widgets/base",
            "overflow": null,
            "_model_module_version": "1.2.0",
            "_view_count": null,
            "flex_flow": null,
            "width": null,
            "min_width": null,
            "border": null,
            "align_items": null,
            "bottom": null,
            "_model_module": "@jupyter-widgets/base",
            "top": null,
            "grid_column": null,
            "overflow_y": null,
            "overflow_x": null,
            "grid_auto_flow": null,
            "grid_area": null,
            "grid_template_columns": null,
            "flex": null,
            "_model_name": "LayoutModel",
            "justify_items": null,
            "grid_row": null,
            "max_height": null,
            "align_content": null,
            "visibility": null,
            "align_self": null,
            "height": null,
            "min_height": null,
            "padding": null,
            "grid_auto_rows": null,
            "grid_gap": null,
            "max_width": null,
            "order": null,
            "_view_module_version": "1.2.0",
            "grid_template_areas": null,
            "object_position": null,
            "object_fit": null,
            "grid_auto_columns": null,
            "margin": null,
            "display": null,
            "left": null
          }
        },
        "cd04527e3cbd4147ba3e124b779dc803": {
          "model_module": "@jupyter-widgets/controls",
          "model_name": "HBoxModel",
          "state": {
            "_view_name": "HBoxView",
            "_dom_classes": [],
            "_model_name": "HBoxModel",
            "_view_module": "@jupyter-widgets/controls",
            "_model_module_version": "1.5.0",
            "_view_count": null,
            "_view_module_version": "1.5.0",
            "box_style": "",
            "layout": "IPY_MODEL_824c3d33e06247abbc53e3f08ea280c8",
            "_model_module": "@jupyter-widgets/controls",
            "children": [
              "IPY_MODEL_070f75f246dd49d38547780d421e7ef8",
              "IPY_MODEL_cff6bc6015434aadaa2ef15b35c3b836"
            ]
          }
        },
        "824c3d33e06247abbc53e3f08ea280c8": {
          "model_module": "@jupyter-widgets/base",
          "model_name": "LayoutModel",
          "state": {
            "_view_name": "LayoutView",
            "grid_template_rows": null,
            "right": null,
            "justify_content": null,
            "_view_module": "@jupyter-widgets/base",
            "overflow": null,
            "_model_module_version": "1.2.0",
            "_view_count": null,
            "flex_flow": null,
            "width": null,
            "min_width": null,
            "border": null,
            "align_items": null,
            "bottom": null,
            "_model_module": "@jupyter-widgets/base",
            "top": null,
            "grid_column": null,
            "overflow_y": null,
            "overflow_x": null,
            "grid_auto_flow": null,
            "grid_area": null,
            "grid_template_columns": null,
            "flex": null,
            "_model_name": "LayoutModel",
            "justify_items": null,
            "grid_row": null,
            "max_height": null,
            "align_content": null,
            "visibility": null,
            "align_self": null,
            "height": null,
            "min_height": null,
            "padding": null,
            "grid_auto_rows": null,
            "grid_gap": null,
            "max_width": null,
            "order": null,
            "_view_module_version": "1.2.0",
            "grid_template_areas": null,
            "object_position": null,
            "object_fit": null,
            "grid_auto_columns": null,
            "margin": null,
            "display": null,
            "left": null
          }
        },
        "070f75f246dd49d38547780d421e7ef8": {
          "model_module": "@jupyter-widgets/controls",
          "model_name": "FloatProgressModel",
          "state": {
            "_view_name": "ProgressView",
            "style": "IPY_MODEL_67ab5aee81ad41e59991997ae4ac31a9",
            "_dom_classes": [],
            "description": "100%",
            "_model_name": "FloatProgressModel",
            "bar_style": "success",
            "max": 4622,
            "_view_module": "@jupyter-widgets/controls",
            "_model_module_version": "1.5.0",
            "value": 4622,
            "_view_count": null,
            "_view_module_version": "1.5.0",
            "orientation": "horizontal",
            "min": 0,
            "description_tooltip": null,
            "_model_module": "@jupyter-widgets/controls",
            "layout": "IPY_MODEL_464fadcab29d4cd08b08f985c796297e"
          }
        },
        "cff6bc6015434aadaa2ef15b35c3b836": {
          "model_module": "@jupyter-widgets/controls",
          "model_name": "HTMLModel",
          "state": {
            "_view_name": "HTMLView",
            "style": "IPY_MODEL_6af5d4ae3f2846a8b459960c124f2688",
            "_dom_classes": [],
            "description": "",
            "_model_name": "HTMLModel",
            "placeholder": "​",
            "_view_module": "@jupyter-widgets/controls",
            "_model_module_version": "1.5.0",
            "value": " 4622/4622 [00:35&lt;00:00, 130.50it/s]",
            "_view_count": null,
            "_view_module_version": "1.5.0",
            "description_tooltip": null,
            "_model_module": "@jupyter-widgets/controls",
            "layout": "IPY_MODEL_4b3b61d7357648639f3f63af7933da43"
          }
        },
        "67ab5aee81ad41e59991997ae4ac31a9": {
          "model_module": "@jupyter-widgets/controls",
          "model_name": "ProgressStyleModel",
          "state": {
            "_view_name": "StyleView",
            "_model_name": "ProgressStyleModel",
            "description_width": "initial",
            "_view_module": "@jupyter-widgets/base",
            "_model_module_version": "1.5.0",
            "_view_count": null,
            "_view_module_version": "1.2.0",
            "bar_color": null,
            "_model_module": "@jupyter-widgets/controls"
          }
        },
        "464fadcab29d4cd08b08f985c796297e": {
          "model_module": "@jupyter-widgets/base",
          "model_name": "LayoutModel",
          "state": {
            "_view_name": "LayoutView",
            "grid_template_rows": null,
            "right": null,
            "justify_content": null,
            "_view_module": "@jupyter-widgets/base",
            "overflow": null,
            "_model_module_version": "1.2.0",
            "_view_count": null,
            "flex_flow": null,
            "width": null,
            "min_width": null,
            "border": null,
            "align_items": null,
            "bottom": null,
            "_model_module": "@jupyter-widgets/base",
            "top": null,
            "grid_column": null,
            "overflow_y": null,
            "overflow_x": null,
            "grid_auto_flow": null,
            "grid_area": null,
            "grid_template_columns": null,
            "flex": null,
            "_model_name": "LayoutModel",
            "justify_items": null,
            "grid_row": null,
            "max_height": null,
            "align_content": null,
            "visibility": null,
            "align_self": null,
            "height": null,
            "min_height": null,
            "padding": null,
            "grid_auto_rows": null,
            "grid_gap": null,
            "max_width": null,
            "order": null,
            "_view_module_version": "1.2.0",
            "grid_template_areas": null,
            "object_position": null,
            "object_fit": null,
            "grid_auto_columns": null,
            "margin": null,
            "display": null,
            "left": null
          }
        },
        "6af5d4ae3f2846a8b459960c124f2688": {
          "model_module": "@jupyter-widgets/controls",
          "model_name": "DescriptionStyleModel",
          "state": {
            "_view_name": "StyleView",
            "_model_name": "DescriptionStyleModel",
            "description_width": "",
            "_view_module": "@jupyter-widgets/base",
            "_model_module_version": "1.5.0",
            "_view_count": null,
            "_view_module_version": "1.2.0",
            "_model_module": "@jupyter-widgets/controls"
          }
        },
        "4b3b61d7357648639f3f63af7933da43": {
          "model_module": "@jupyter-widgets/base",
          "model_name": "LayoutModel",
          "state": {
            "_view_name": "LayoutView",
            "grid_template_rows": null,
            "right": null,
            "justify_content": null,
            "_view_module": "@jupyter-widgets/base",
            "overflow": null,
            "_model_module_version": "1.2.0",
            "_view_count": null,
            "flex_flow": null,
            "width": null,
            "min_width": null,
            "border": null,
            "align_items": null,
            "bottom": null,
            "_model_module": "@jupyter-widgets/base",
            "top": null,
            "grid_column": null,
            "overflow_y": null,
            "overflow_x": null,
            "grid_auto_flow": null,
            "grid_area": null,
            "grid_template_columns": null,
            "flex": null,
            "_model_name": "LayoutModel",
            "justify_items": null,
            "grid_row": null,
            "max_height": null,
            "align_content": null,
            "visibility": null,
            "align_self": null,
            "height": null,
            "min_height": null,
            "padding": null,
            "grid_auto_rows": null,
            "grid_gap": null,
            "max_width": null,
            "order": null,
            "_view_module_version": "1.2.0",
            "grid_template_areas": null,
            "object_position": null,
            "object_fit": null,
            "grid_auto_columns": null,
            "margin": null,
            "display": null,
            "left": null
          }
        },
        "91f468df3f1043c298ce39c24662aad5": {
          "model_module": "@jupyter-widgets/controls",
          "model_name": "HBoxModel",
          "state": {
            "_view_name": "HBoxView",
            "_dom_classes": [],
            "_model_name": "HBoxModel",
            "_view_module": "@jupyter-widgets/controls",
            "_model_module_version": "1.5.0",
            "_view_count": null,
            "_view_module_version": "1.5.0",
            "box_style": "",
            "layout": "IPY_MODEL_755f6f021407413b9937ffcab65e151e",
            "_model_module": "@jupyter-widgets/controls",
            "children": [
              "IPY_MODEL_b7d9bcbca2d64b97b38be7a85a485bc6",
              "IPY_MODEL_38764c6bf28d4d4fb25340e40fe20f8c"
            ]
          }
        },
        "755f6f021407413b9937ffcab65e151e": {
          "model_module": "@jupyter-widgets/base",
          "model_name": "LayoutModel",
          "state": {
            "_view_name": "LayoutView",
            "grid_template_rows": null,
            "right": null,
            "justify_content": null,
            "_view_module": "@jupyter-widgets/base",
            "overflow": null,
            "_model_module_version": "1.2.0",
            "_view_count": null,
            "flex_flow": null,
            "width": null,
            "min_width": null,
            "border": null,
            "align_items": null,
            "bottom": null,
            "_model_module": "@jupyter-widgets/base",
            "top": null,
            "grid_column": null,
            "overflow_y": null,
            "overflow_x": null,
            "grid_auto_flow": null,
            "grid_area": null,
            "grid_template_columns": null,
            "flex": null,
            "_model_name": "LayoutModel",
            "justify_items": null,
            "grid_row": null,
            "max_height": null,
            "align_content": null,
            "visibility": null,
            "align_self": null,
            "height": null,
            "min_height": null,
            "padding": null,
            "grid_auto_rows": null,
            "grid_gap": null,
            "max_width": null,
            "order": null,
            "_view_module_version": "1.2.0",
            "grid_template_areas": null,
            "object_position": null,
            "object_fit": null,
            "grid_auto_columns": null,
            "margin": null,
            "display": null,
            "left": null
          }
        },
        "b7d9bcbca2d64b97b38be7a85a485bc6": {
          "model_module": "@jupyter-widgets/controls",
          "model_name": "FloatProgressModel",
          "state": {
            "_view_name": "ProgressView",
            "style": "IPY_MODEL_d8b5f82a58964e469bb7471c538ff770",
            "_dom_classes": [],
            "description": "100%",
            "_model_name": "FloatProgressModel",
            "bar_style": "success",
            "max": 4622,
            "_view_module": "@jupyter-widgets/controls",
            "_model_module_version": "1.5.0",
            "value": 4622,
            "_view_count": null,
            "_view_module_version": "1.5.0",
            "orientation": "horizontal",
            "min": 0,
            "description_tooltip": null,
            "_model_module": "@jupyter-widgets/controls",
            "layout": "IPY_MODEL_f4d7c0439e26447688c7b7f120d40f7b"
          }
        },
        "38764c6bf28d4d4fb25340e40fe20f8c": {
          "model_module": "@jupyter-widgets/controls",
          "model_name": "HTMLModel",
          "state": {
            "_view_name": "HTMLView",
            "style": "IPY_MODEL_0fd29fd89384466b9ed0a88ad5e4714d",
            "_dom_classes": [],
            "description": "",
            "_model_name": "HTMLModel",
            "placeholder": "​",
            "_view_module": "@jupyter-widgets/controls",
            "_model_module_version": "1.5.0",
            "value": " 4622/4622 [00:34&lt;00:00, 132.37it/s]",
            "_view_count": null,
            "_view_module_version": "1.5.0",
            "description_tooltip": null,
            "_model_module": "@jupyter-widgets/controls",
            "layout": "IPY_MODEL_31d988c4a7354834b430fdc350288649"
          }
        },
        "d8b5f82a58964e469bb7471c538ff770": {
          "model_module": "@jupyter-widgets/controls",
          "model_name": "ProgressStyleModel",
          "state": {
            "_view_name": "StyleView",
            "_model_name": "ProgressStyleModel",
            "description_width": "initial",
            "_view_module": "@jupyter-widgets/base",
            "_model_module_version": "1.5.0",
            "_view_count": null,
            "_view_module_version": "1.2.0",
            "bar_color": null,
            "_model_module": "@jupyter-widgets/controls"
          }
        },
        "f4d7c0439e26447688c7b7f120d40f7b": {
          "model_module": "@jupyter-widgets/base",
          "model_name": "LayoutModel",
          "state": {
            "_view_name": "LayoutView",
            "grid_template_rows": null,
            "right": null,
            "justify_content": null,
            "_view_module": "@jupyter-widgets/base",
            "overflow": null,
            "_model_module_version": "1.2.0",
            "_view_count": null,
            "flex_flow": null,
            "width": null,
            "min_width": null,
            "border": null,
            "align_items": null,
            "bottom": null,
            "_model_module": "@jupyter-widgets/base",
            "top": null,
            "grid_column": null,
            "overflow_y": null,
            "overflow_x": null,
            "grid_auto_flow": null,
            "grid_area": null,
            "grid_template_columns": null,
            "flex": null,
            "_model_name": "LayoutModel",
            "justify_items": null,
            "grid_row": null,
            "max_height": null,
            "align_content": null,
            "visibility": null,
            "align_self": null,
            "height": null,
            "min_height": null,
            "padding": null,
            "grid_auto_rows": null,
            "grid_gap": null,
            "max_width": null,
            "order": null,
            "_view_module_version": "1.2.0",
            "grid_template_areas": null,
            "object_position": null,
            "object_fit": null,
            "grid_auto_columns": null,
            "margin": null,
            "display": null,
            "left": null
          }
        },
        "0fd29fd89384466b9ed0a88ad5e4714d": {
          "model_module": "@jupyter-widgets/controls",
          "model_name": "DescriptionStyleModel",
          "state": {
            "_view_name": "StyleView",
            "_model_name": "DescriptionStyleModel",
            "description_width": "",
            "_view_module": "@jupyter-widgets/base",
            "_model_module_version": "1.5.0",
            "_view_count": null,
            "_view_module_version": "1.2.0",
            "_model_module": "@jupyter-widgets/controls"
          }
        },
        "31d988c4a7354834b430fdc350288649": {
          "model_module": "@jupyter-widgets/base",
          "model_name": "LayoutModel",
          "state": {
            "_view_name": "LayoutView",
            "grid_template_rows": null,
            "right": null,
            "justify_content": null,
            "_view_module": "@jupyter-widgets/base",
            "overflow": null,
            "_model_module_version": "1.2.0",
            "_view_count": null,
            "flex_flow": null,
            "width": null,
            "min_width": null,
            "border": null,
            "align_items": null,
            "bottom": null,
            "_model_module": "@jupyter-widgets/base",
            "top": null,
            "grid_column": null,
            "overflow_y": null,
            "overflow_x": null,
            "grid_auto_flow": null,
            "grid_area": null,
            "grid_template_columns": null,
            "flex": null,
            "_model_name": "LayoutModel",
            "justify_items": null,
            "grid_row": null,
            "max_height": null,
            "align_content": null,
            "visibility": null,
            "align_self": null,
            "height": null,
            "min_height": null,
            "padding": null,
            "grid_auto_rows": null,
            "grid_gap": null,
            "max_width": null,
            "order": null,
            "_view_module_version": "1.2.0",
            "grid_template_areas": null,
            "object_position": null,
            "object_fit": null,
            "grid_auto_columns": null,
            "margin": null,
            "display": null,
            "left": null
          }
        }
      }
    },
    "accelerator": "GPU"
  },
  "cells": [
    {
      "cell_type": "code",
      "metadata": {
        "id": "xtWaH0i5Pyfd",
        "colab_type": "code",
        "colab": {
          "base_uri": "https://localhost:8080/",
          "height": 89
        },
        "outputId": "7fefd0e8-3ebb-40bb-a94d-70ec9e86fcf2"
      },
      "source": [
        "import re\n",
        "import os\n",
        "import nltk\n",
        "import warnings\n",
        "import numpy as np\n",
        "import pandas as pd\n",
        "from tqdm import tqdm\n",
        "from nltk.corpus import wordnet\n",
        "from collections import Counter\n",
        "from lightgbm import LGBMClassifier\n",
        "from matplotlib import pyplot as plt\n",
        "from tqdm._tqdm_notebook import tqdm_notebook\n",
        "from sklearn.decomposition import TruncatedSVD\n",
        "from sklearn.model_selection import GridSearchCV\n",
        "from sklearn.metrics import classification_report\n",
        "from sklearn.model_selection import cross_val_score\n",
        "from sklearn.model_selection import StratifiedKFold\n",
        "from sklearn.feature_extraction.text import TfidfVectorizer\n",
        "\n",
        "\n",
        "warnings.filterwarnings('ignore')\n",
        "tqdm_notebook.pandas()"
      ],
      "execution_count": 1,
      "outputs": [
        {
          "output_type": "stream",
          "text": [
            "/usr/local/lib/python3.6/dist-packages/ipykernel_launcher.py:12: TqdmDeprecationWarning: This function will be removed in tqdm==5.0.0\n",
            "Please use `tqdm.notebook.*` instead of `tqdm._tqdm_notebook.*`\n",
            "  if sys.path[0] == '':\n"
          ],
          "name": "stderr"
        }
      ]
    },
    {
      "cell_type": "code",
      "metadata": {
        "id": "MwazWoWOPyiB",
        "colab_type": "code",
        "colab": {}
      },
      "source": [
        "# Import Dataset\n",
        "train = pd.read_csv('train.csv')\n",
        "test = pd.read_csv('test.csv')"
      ],
      "execution_count": 2,
      "outputs": []
    },
    {
      "cell_type": "code",
      "metadata": {
        "id": "iP28iPsgTDst",
        "colab_type": "code",
        "colab": {
          "base_uri": "https://localhost:8080/",
          "height": 206
        },
        "outputId": "0ce2127c-e93d-4778-8e3a-0760bee1db1c"
      },
      "source": [
        "train.head()"
      ],
      "execution_count": 3,
      "outputs": [
        {
          "output_type": "execute_result",
          "data": {
            "text/html": [
              "<div>\n",
              "<style scoped>\n",
              "    .dataframe tbody tr th:only-of-type {\n",
              "        vertical-align: middle;\n",
              "    }\n",
              "\n",
              "    .dataframe tbody tr th {\n",
              "        vertical-align: top;\n",
              "    }\n",
              "\n",
              "    .dataframe thead th {\n",
              "        text-align: right;\n",
              "    }\n",
              "</style>\n",
              "<table border=\"1\" class=\"dataframe\">\n",
              "  <thead>\n",
              "    <tr style=\"text-align: right;\">\n",
              "      <th></th>\n",
              "      <th>id</th>\n",
              "      <th>original_text</th>\n",
              "      <th>lang</th>\n",
              "      <th>retweet_count</th>\n",
              "      <th>original_author</th>\n",
              "      <th>sentiment_class</th>\n",
              "    </tr>\n",
              "  </thead>\n",
              "  <tbody>\n",
              "    <tr>\n",
              "      <th>0</th>\n",
              "      <td>1.245025e+18</td>\n",
              "      <td>Happy #MothersDay to all you amazing mothers o...</td>\n",
              "      <td>en</td>\n",
              "      <td>0</td>\n",
              "      <td>BeenXXPired</td>\n",
              "      <td>0</td>\n",
              "    </tr>\n",
              "    <tr>\n",
              "      <th>1</th>\n",
              "      <td>1.245759e+18</td>\n",
              "      <td>Happy Mothers Day Mum - I'm sorry I can't be t...</td>\n",
              "      <td>en</td>\n",
              "      <td>1</td>\n",
              "      <td>FestiveFeeling</td>\n",
              "      <td>0</td>\n",
              "    </tr>\n",
              "    <tr>\n",
              "      <th>2</th>\n",
              "      <td>1.246087e+18</td>\n",
              "      <td>Happy mothers day To all This doing a mothers ...</td>\n",
              "      <td>en</td>\n",
              "      <td>0</td>\n",
              "      <td>KrisAllenSak</td>\n",
              "      <td>-1</td>\n",
              "    </tr>\n",
              "    <tr>\n",
              "      <th>3</th>\n",
              "      <td>1.244803e+18</td>\n",
              "      <td>Happy mothers day to this beautiful woman...ro...</td>\n",
              "      <td>en</td>\n",
              "      <td>0</td>\n",
              "      <td>Queenuchee</td>\n",
              "      <td>0</td>\n",
              "    </tr>\n",
              "    <tr>\n",
              "      <th>4</th>\n",
              "      <td>1.244876e+18</td>\n",
              "      <td>Remembering the 3 most amazing ladies who made...</td>\n",
              "      <td>en</td>\n",
              "      <td>0</td>\n",
              "      <td>brittan17446794</td>\n",
              "      <td>-1</td>\n",
              "    </tr>\n",
              "  </tbody>\n",
              "</table>\n",
              "</div>"
            ],
            "text/plain": [
              "             id  ... sentiment_class\n",
              "0  1.245025e+18  ...               0\n",
              "1  1.245759e+18  ...               0\n",
              "2  1.246087e+18  ...              -1\n",
              "3  1.244803e+18  ...               0\n",
              "4  1.244876e+18  ...              -1\n",
              "\n",
              "[5 rows x 6 columns]"
            ]
          },
          "metadata": {
            "tags": []
          },
          "execution_count": 3
        }
      ]
    },
    {
      "cell_type": "code",
      "metadata": {
        "id": "Y0DjlcyPLxKM",
        "colab_type": "code",
        "colab": {
          "base_uri": "https://localhost:8080/",
          "height": 334
        },
        "outputId": "bbd81146-d751-4a08-8163-79fa6d292003"
      },
      "source": [
        "plt.hist(train['sentiment_class']) # dataset is imbalanced"
      ],
      "execution_count": 4,
      "outputs": [
        {
          "output_type": "execute_result",
          "data": {
            "text/plain": [
              "(array([ 769.,    0.,    0.,    0.,    0., 1701.,    0.,    0.,    0.,\n",
              "         765.]),\n",
              " array([-1. , -0.8, -0.6, -0.4, -0.2,  0. ,  0.2,  0.4,  0.6,  0.8,  1. ]),\n",
              " <a list of 10 Patch objects>)"
            ]
          },
          "metadata": {
            "tags": []
          },
          "execution_count": 4
        },
        {
          "output_type": "display_data",
          "data": {
            "image/png": "[encoded data removed]",
            "text/plain": [
              "<Figure size 432x288 with 1 Axes>"
            ]
          },
          "metadata": {
            "tags": [],
            "needs_background": "light"
          }
        }
      ]
    },
    {
      "cell_type": "code",
      "metadata": {
        "id": "57ZTVv4rYf_m",
        "colab_type": "code",
        "colab": {}
      },
      "source": [
        "test_id = test.id"
      ],
      "execution_count": 5,
      "outputs": []
    },
    {
      "cell_type": "code",
      "metadata": {
        "id": "lXZbYD-LS8_A",
        "colab_type": "code",
        "colab": {}
      },
      "source": [
        "# merge train and test set\n",
        "train['train'] = \"YES\"\n",
        "test['train'] = \"NO\""
      ],
      "execution_count": 6,
      "outputs": []
    },
    {
      "cell_type": "code",
      "metadata": {
        "id": "Rv7WeFmUPyng",
        "colab_type": "code",
        "colab": {}
      },
      "source": [
        "all_data = pd.concat([train,test],ignore_index=True)"
      ],
      "execution_count": 7,
      "outputs": []
    },
    {
      "cell_type": "code",
      "metadata": {
        "id": "IYu35r6-PytN",
        "colab_type": "code",
        "colab": {
          "base_uri": "https://localhost:8080/",
          "height": 34
        },
        "outputId": "ba759207-cece-459f-bec6-5e57f1b50574"
      },
      "source": [
        "all_data.shape,train.shape, test.shape"
      ],
      "execution_count": 8,
      "outputs": [
        {
          "output_type": "execute_result",
          "data": {
            "text/plain": [
              "((4622, 7), (3235, 7), (1387, 6))"
            ]
          },
          "metadata": {
            "tags": []
          },
          "execution_count": 8
        }
      ]
    },
    {
      "cell_type": "code",
      "metadata": {
        "id": "_e1F25HNQkZ7",
        "colab_type": "code",
        "colab": {
          "base_uri": "https://localhost:8080/",
          "height": 293
        },
        "outputId": "f592ae3a-efbc-4193-875c-1124a1c49a9f"
      },
      "source": [
        "all_data.tail()"
      ],
      "execution_count": 9,
      "outputs": [
        {
          "output_type": "execute_result",
          "data": {
            "text/html": [
              "<div>\n",
              "<style scoped>\n",
              "    .dataframe tbody tr th:only-of-type {\n",
              "        vertical-align: middle;\n",
              "    }\n",
              "\n",
              "    .dataframe tbody tr th {\n",
              "        vertical-align: top;\n",
              "    }\n",
              "\n",
              "    .dataframe thead th {\n",
              "        text-align: right;\n",
              "    }\n",
              "</style>\n",
              "<table border=\"1\" class=\"dataframe\">\n",
              "  <thead>\n",
              "    <tr style=\"text-align: right;\">\n",
              "      <th></th>\n",
              "      <th>id</th>\n",
              "      <th>original_text</th>\n",
              "      <th>lang</th>\n",
              "      <th>retweet_count</th>\n",
              "      <th>original_author</th>\n",
              "      <th>sentiment_class</th>\n",
              "      <th>train</th>\n",
              "    </tr>\n",
              "  </thead>\n",
              "  <tbody>\n",
              "    <tr>\n",
              "      <th>4617</th>\n",
              "      <td>1.245219e+18</td>\n",
              "      <td>Happy Mother’s Day you crazy bitch I’m sorry c...</td>\n",
              "      <td>en</td>\n",
              "      <td>0</td>\n",
              "      <td>MarlosFinds</td>\n",
              "      <td>NaN</td>\n",
              "      <td>NO</td>\n",
              "    </tr>\n",
              "    <tr>\n",
              "      <th>4618</th>\n",
              "      <td>1.245882e+18</td>\n",
              "      <td>Mum can't get to the bingo, so we brought the ...</td>\n",
              "      <td>-0.8393813523</td>\n",
              "      <td>en</td>\n",
              "      <td>1</td>\n",
              "      <td>NaN</td>\n",
              "      <td>NO</td>\n",
              "    </tr>\n",
              "    <tr>\n",
              "      <th>4619</th>\n",
              "      <td>1.246461e+18</td>\n",
              "      <td>Despite all this bullshit today has been one o...</td>\n",
              "      <td>en</td>\n",
              "      <td>0</td>\n",
              "      <td>LToddWood</td>\n",
              "      <td>NaN</td>\n",
              "      <td>NO</td>\n",
              "    </tr>\n",
              "    <tr>\n",
              "      <th>4620</th>\n",
              "      <td>1.246245e+18</td>\n",
              "      <td>Happy Mothers Day Firstly to my Queen daniele_...</td>\n",
              "      <td>en</td>\n",
              "      <td>0</td>\n",
              "      <td>LToddWood</td>\n",
              "      <td>NaN</td>\n",
              "      <td>NO</td>\n",
              "    </tr>\n",
              "    <tr>\n",
              "      <th>4621</th>\n",
              "      <td>1.245178e+18</td>\n",
              "      <td>Mothers Day Walk When you live in a tiny villa...</td>\n",
              "      <td>en</td>\n",
              "      <td>0</td>\n",
              "      <td>HerHistoryatYC</td>\n",
              "      <td>NaN</td>\n",
              "      <td>NO</td>\n",
              "    </tr>\n",
              "  </tbody>\n",
              "</table>\n",
              "</div>"
            ],
            "text/plain": [
              "                id  ... train\n",
              "4617  1.245219e+18  ...    NO\n",
              "4618  1.245882e+18  ...    NO\n",
              "4619  1.246461e+18  ...    NO\n",
              "4620  1.246245e+18  ...    NO\n",
              "4621  1.245178e+18  ...    NO\n",
              "\n",
              "[5 rows x 7 columns]"
            ]
          },
          "metadata": {
            "tags": []
          },
          "execution_count": 9
        }
      ]
    },
    {
      "cell_type": "code",
      "metadata": {
        "id": "ZJMQCY7lPyp1",
        "colab_type": "code",
        "colab": {}
      },
      "source": [
        "#function which are cleaning the texts from the dataset\n",
        "def remove_no_space(text):\n",
        "    REPLACE_NO_SPACE = re.compile(\"(\\.)|(\\t)|(\\;)|(\\:)|(\\!)|(\\?)|(\\,)|(#)|(')|(\\\")|(\\()|(\\))|(\\[)|(\\])|(\\d+)\")\n",
        "    NO_SPACE = \"\"\n",
        "    return re.sub(REPLACE_NO_SPACE,NO_SPACE, text)\n",
        "def remove_with_space(text):\n",
        "    REPLACE_WITH_SPACE = re.compile(\"(<b\\s*/><b\\s*/>)|(\\-)|(\\/)|(\\n)\")\n",
        "    SPACE = \" \"\n",
        "    return re.sub(REPLACE_WITH_SPACE,SPACE, text)\n",
        "def remove_access_space(text):\n",
        "    return re.sub(\"\\s\\s+\" , \" \", text)\n",
        "\n",
        "def remove_link(text):\n",
        "  return re.sub(r'^https?:\\/\\/.*[\\r\\n]*', \" \", text)\n",
        "\n",
        "def lower_case(text):\n",
        "    return text.lower()"
      ],
      "execution_count": 10,
      "outputs": []
    },
    {
      "cell_type": "code",
      "metadata": {
        "id": "hsHvB9fOPylV",
        "colab_type": "code",
        "colab": {
          "base_uri": "https://localhost:8080/",
          "height": 264,
          "referenced_widgets": [
            "40fb47e219ea4a96a336e78959bb2dff",
            "a8f357035671411f9f43a131c8f6fe14",
            "eec120220dd14f8a8ec7ab12c28b9196",
            "a84115cb7e7f4a208b3bc5c05cf3182a",
            "a962ba1a63ab4717b4eec2a6f9de1603",
            "453efb16560a4c8096e63b3425696bac",
            "5032076e2939487bad098b5fdbfc51a6",
            "31d33cdacaec4823b343d01aed93039b",
            "2ad751b560684389ab0332d1c97167ff",
            "a750eb7f37aa49e9bb73475f1e12d47d",
            "d0ef48c3ff70420ab5c4eac35cafcf32",
            "13eab3992c20483187fa004645082d6f",
            "99b63f9347af4aa1847d8b0049d22d09",
            "1c8d4e6d66414dad8f51c03ede0ad8af",
            "10a5d762e053449e8f253f643905a272",
            "d60bd90323dc4300b52e5827c69186b3",
            "00fc4f7c43eb408bace895767dd93185",
            "5c0bc16d9e6b483faf5d611130409e3c",
            "4e7f59a63b324425aa7f53510b054e47",
            "5db0408bf7c2483c9eff3edf6220bc87",
            "3c66279bbc334186ba3059ef92b39701",
            "9759bb6b29c64305bc4cf4d6ee43f800",
            "db0603691ec2492e9530b761b17a56ff",
            "340b461cab6045f489f4993b94b7ede8",
            "cd04527e3cbd4147ba3e124b779dc803",
            "824c3d33e06247abbc53e3f08ea280c8",
            "070f75f246dd49d38547780d421e7ef8",
            "cff6bc6015434aadaa2ef15b35c3b836",
            "67ab5aee81ad41e59991997ae4ac31a9",
            "464fadcab29d4cd08b08f985c796297e",
            "6af5d4ae3f2846a8b459960c124f2688",
            "4b3b61d7357648639f3f63af7933da43",
            "91f468df3f1043c298ce39c24662aad5",
            "755f6f021407413b9937ffcab65e151e",
            "b7d9bcbca2d64b97b38be7a85a485bc6",
            "38764c6bf28d4d4fb25340e40fe20f8c",
            "d8b5f82a58964e469bb7471c538ff770",
            "f4d7c0439e26447688c7b7f120d40f7b",
            "0fd29fd89384466b9ed0a88ad5e4714d",
            "31d988c4a7354834b430fdc350288649"
          ]
        },
        "outputId": "4ddbe4c6-4aed-42f2-cf09-88e8f1b334dd"
      },
      "source": [
        "all_data['original_text'] = all_data['original_text'].progress_apply(lower_case)\n",
        "all_data['original_text'] = all_data['original_text'].progress_apply(remove_link)\n",
        "all_data['original_text'] = all_data['original_text'].progress_apply(remove_with_space)\n",
        "all_data['original_text'] = all_data['original_text'].progress_apply(remove_no_space)\n",
        "all_data['original_text'] = all_data['original_text'].progress_apply(remove_access_space)\n"
      ],
      "execution_count": 11,
      "outputs": [
        {
          "output_type": "display_data",
          "data": {
            "application/vnd.jupyter.widget-view+json": {
              "model_id": "40fb47e219ea4a96a336e78959bb2dff",
              "version_minor": 0,
              "version_major": 2
            },
            "text/plain": [
              "HBox(children=(FloatProgress(value=0.0, max=4622.0), HTML(value='')))"
            ]
          },
          "metadata": {
            "tags": []
          }
        },
        {
          "output_type": "stream",
          "text": [
            "\n"
          ],
          "name": "stdout"
        },
        {
          "output_type": "display_data",
          "data": {
            "application/vnd.jupyter.widget-view+json": {
              "model_id": "2ad751b560684389ab0332d1c97167ff",
              "version_minor": 0,
              "version_major": 2
            },
            "text/plain": [
              "HBox(children=(FloatProgress(value=0.0, max=4622.0), HTML(value='')))"
            ]
          },
          "metadata": {
            "tags": []
          }
        },
        {
          "output_type": "stream",
          "text": [
            "\n"
          ],
          "name": "stdout"
        },
        {
          "output_type": "display_data",
          "data": {
            "application/vnd.jupyter.widget-view+json": {
              "model_id": "00fc4f7c43eb408bace895767dd93185",
              "version_minor": 0,
              "version_major": 2
            },
            "text/plain": [
              "HBox(children=(FloatProgress(value=0.0, max=4622.0), HTML(value='')))"
            ]
          },
          "metadata": {
            "tags": []
          }
        },
        {
          "output_type": "stream",
          "text": [
            "\n"
          ],
          "name": "stdout"
        },
        {
          "output_type": "display_data",
          "data": {
            "application/vnd.jupyter.widget-view+json": {
              "model_id": "cd04527e3cbd4147ba3e124b779dc803",
              "version_minor": 0,
              "version_major": 2
            },
            "text/plain": [
              "HBox(children=(FloatProgress(value=0.0, max=4622.0), HTML(value='')))"
            ]
          },
          "metadata": {
            "tags": []
          }
        },
        {
          "output_type": "stream",
          "text": [
            "\n"
          ],
          "name": "stdout"
        },
        {
          "output_type": "display_data",
          "data": {
            "application/vnd.jupyter.widget-view+json": {
              "model_id": "91f468df3f1043c298ce39c24662aad5",
              "version_minor": 0,
              "version_major": 2
            },
            "text/plain": [
              "HBox(children=(FloatProgress(value=0.0, max=4622.0), HTML(value='')))"
            ]
          },
          "metadata": {
            "tags": []
          }
        },
        {
          "output_type": "stream",
          "text": [
            "\n"
          ],
          "name": "stdout"
        }
      ]
    },
    {
      "cell_type": "code",
      "metadata": {
        "id": "PS2kiO41PIwc",
        "colab_type": "code",
        "colab": {}
      },
      "source": [
        "# converting into categories\n",
        "all_data.loc[all_data['lang']!='en','lang'] = 0\n",
        "all_data.loc[all_data['lang']=='en','lang'] = 1"
      ],
      "execution_count": 12,
      "outputs": []
    },
    {
      "cell_type": "code",
      "metadata": {
        "id": "nHtTq0tWW3-N",
        "colab_type": "code",
        "colab": {}
      },
      "source": [
        "all_data.loc[all_data['retweet_count']=='en','retweet_count'] = 0\n",
        "all_data.loc[all_data['retweet_count']=='encouraging- thanks. more2come','retweet_count'] = 0\n",
        "all_data.loc[all_data['retweet_count']==' have no other means of occasional transportation! Mary.','retweet_count'] = 0\n",
        "all_data.loc[all_data['retweet_count']==' Shop &lt','retweet_count'] = 0\n",
        "all_data.loc[all_data['retweet_count']==' He\\'s told me I don\\'t understand what it means to be a special agent LOL','retweet_count'] = 0\n",
        "all_data.loc[all_data['retweet_count']==' Day//Gift for Moms//Personalized Shirt','retweet_count'] = 0\n",
        "all_data.loc[all_data['retweet_count']==' BLOOD OF PROTECTION AROUND YOU GUYS','retweet_count'] = 0"
      ],
      "execution_count": 13,
      "outputs": []
    },
    {
      "cell_type": "code",
      "metadata": {
        "id": "PxezTSvjX-0L",
        "colab_type": "code",
        "colab": {}
      },
      "source": [
        "all_data['retweet_count'].fillna(0,inplace=True)"
      ],
      "execution_count": 14,
      "outputs": []
    },
    {
      "cell_type": "code",
      "metadata": {
        "id": "nTZnbPb1YF1Z",
        "colab_type": "code",
        "colab": {}
      },
      "source": [
        "all_data['retweet_count'] = all_data['retweet_count'].astype(np.float16)"
      ],
      "execution_count": 15,
      "outputs": []
    },
    {
      "cell_type": "code",
      "metadata": {
        "id": "f7-EXLOZYxnN",
        "colab_type": "code",
        "colab": {}
      },
      "source": [
        "all_data.loc[all_data['retweet_count']< 1,'retweet_count'] = 0"
      ],
      "execution_count": 16,
      "outputs": []
    },
    {
      "cell_type": "code",
      "metadata": {
        "id": "n54br_sURqug",
        "colab_type": "code",
        "colab": {}
      },
      "source": [
        "#Split into train and test dataframes\n",
        "train = all_data[all_data['train']==\"YES\"]\n",
        "test = all_data[all_data['train']==\"NO\"]"
      ],
      "execution_count": 17,
      "outputs": []
    },
    {
      "cell_type": "code",
      "metadata": {
        "id": "hCDs2f4BqYr3",
        "colab_type": "code",
        "colab": {
          "base_uri": "https://localhost:8080/",
          "height": 275
        },
        "outputId": "449ae5a9-b927-4554-b9c8-92e101e06073"
      },
      "source": [
        "train.head()"
      ],
      "execution_count": 18,
      "outputs": [
        {
          "output_type": "execute_result",
          "data": {
            "text/html": [
              "<div>\n",
              "<style scoped>\n",
              "    .dataframe tbody tr th:only-of-type {\n",
              "        vertical-align: middle;\n",
              "    }\n",
              "\n",
              "    .dataframe tbody tr th {\n",
              "        vertical-align: top;\n",
              "    }\n",
              "\n",
              "    .dataframe thead th {\n",
              "        text-align: right;\n",
              "    }\n",
              "</style>\n",
              "<table border=\"1\" class=\"dataframe\">\n",
              "  <thead>\n",
              "    <tr style=\"text-align: right;\">\n",
              "      <th></th>\n",
              "      <th>id</th>\n",
              "      <th>original_text</th>\n",
              "      <th>lang</th>\n",
              "      <th>retweet_count</th>\n",
              "      <th>original_author</th>\n",
              "      <th>sentiment_class</th>\n",
              "      <th>train</th>\n",
              "    </tr>\n",
              "  </thead>\n",
              "  <tbody>\n",
              "    <tr>\n",
              "      <th>0</th>\n",
              "      <td>1.245025e+18</td>\n",
              "      <td>happy mothersday to all you amazing mothers ou...</td>\n",
              "      <td>1</td>\n",
              "      <td>0.0</td>\n",
              "      <td>BeenXXPired</td>\n",
              "      <td>0.0</td>\n",
              "      <td>YES</td>\n",
              "    </tr>\n",
              "    <tr>\n",
              "      <th>1</th>\n",
              "      <td>1.245759e+18</td>\n",
              "      <td>happy mothers day mum im sorry i cant be there...</td>\n",
              "      <td>1</td>\n",
              "      <td>1.0</td>\n",
              "      <td>FestiveFeeling</td>\n",
              "      <td>0.0</td>\n",
              "      <td>YES</td>\n",
              "    </tr>\n",
              "    <tr>\n",
              "      <th>2</th>\n",
              "      <td>1.246087e+18</td>\n",
              "      <td>happy mothers day to all this doing a mothers ...</td>\n",
              "      <td>1</td>\n",
              "      <td>0.0</td>\n",
              "      <td>KrisAllenSak</td>\n",
              "      <td>-1.0</td>\n",
              "      <td>YES</td>\n",
              "    </tr>\n",
              "    <tr>\n",
              "      <th>3</th>\n",
              "      <td>1.244803e+18</td>\n",
              "      <td>happy mothers day to this beautiful womanroyal...</td>\n",
              "      <td>1</td>\n",
              "      <td>0.0</td>\n",
              "      <td>Queenuchee</td>\n",
              "      <td>0.0</td>\n",
              "      <td>YES</td>\n",
              "    </tr>\n",
              "    <tr>\n",
              "      <th>4</th>\n",
              "      <td>1.244876e+18</td>\n",
              "      <td>remembering the most amazing ladies who made m...</td>\n",
              "      <td>1</td>\n",
              "      <td>0.0</td>\n",
              "      <td>brittan17446794</td>\n",
              "      <td>-1.0</td>\n",
              "      <td>YES</td>\n",
              "    </tr>\n",
              "  </tbody>\n",
              "</table>\n",
              "</div>"
            ],
            "text/plain": [
              "             id  ... train\n",
              "0  1.245025e+18  ...   YES\n",
              "1  1.245759e+18  ...   YES\n",
              "2  1.246087e+18  ...   YES\n",
              "3  1.244803e+18  ...   YES\n",
              "4  1.244876e+18  ...   YES\n",
              "\n",
              "[5 rows x 7 columns]"
            ]
          },
          "metadata": {
            "tags": []
          },
          "execution_count": 18
        }
      ]
    },
    {
      "cell_type": "code",
      "metadata": {
        "id": "dTZMfekF6x1E",
        "colab_type": "code",
        "colab": {
          "base_uri": "https://localhost:8080/",
          "height": 34
        },
        "outputId": "883b2e81-20e0-4241-afb6-15c4369e5f2c"
      },
      "source": [
        "all_data.shape"
      ],
      "execution_count": 19,
      "outputs": [
        {
          "output_type": "execute_result",
          "data": {
            "text/plain": [
              "(4622, 7)"
            ]
          },
          "metadata": {
            "tags": []
          },
          "execution_count": 19
        }
      ]
    },
    {
      "cell_type": "code",
      "metadata": {
        "id": "9LOvK4zURDNp",
        "colab_type": "code",
        "colab": {
          "base_uri": "https://localhost:8080/",
          "height": 34
        },
        "outputId": "4242a087-96d4-4f11-b44d-32798defaf95"
      },
      "source": [
        "test.shape"
      ],
      "execution_count": 20,
      "outputs": [
        {
          "output_type": "execute_result",
          "data": {
            "text/plain": [
              "(1387, 7)"
            ]
          },
          "metadata": {
            "tags": []
          },
          "execution_count": 20
        }
      ]
    },
    {
      "cell_type": "code",
      "metadata": {
        "id": "3nkQWTMCZs74",
        "colab_type": "code",
        "colab": {}
      },
      "source": [
        "test.reset_index(drop=True, inplace=True)"
      ],
      "execution_count": 21,
      "outputs": []
    },
    {
      "cell_type": "markdown",
      "metadata": {
        "id": "aoe_BeIt1eiY",
        "colab_type": "text"
      },
      "source": [
        "# Preparing train/test dataset :"
      ]
    },
    {
      "cell_type": "code",
      "metadata": {
        "id": "a2kbgZYEUEw9",
        "colab_type": "code",
        "colab": {}
      },
      "source": [
        "train.drop(columns=['train'],inplace=True)\n",
        "test.drop(columns=['train'],inplace=True)"
      ],
      "execution_count": 22,
      "outputs": []
    },
    {
      "cell_type": "markdown",
      "metadata": {
        "id": "D3z5CE-Y2JWX",
        "colab_type": "text"
      },
      "source": [
        "## TrainSet"
      ]
    },
    {
      "cell_type": "code",
      "metadata": {
        "id": "53mY3lWYSVJR",
        "colab_type": "code",
        "colab": {}
      },
      "source": [
        "tfidf_vec = TfidfVectorizer(stop_words='english',\n",
        "                            ngram_range=(1,4), \n",
        "                            analyzer='word',\n",
        "                            max_df = .9,\n",
        "                            use_idf=1, \n",
        "                            sublinear_tf=1, \n",
        "                            min_df = 20, \n",
        "                            strip_accents='ascii')\n",
        "\n",
        "full_tfidf = tfidf_vec.fit_transform(train['original_text'].values.tolist() + test['original_text'].values.tolist())\n",
        "train_tfidf = tfidf_vec.transform(train['original_text'].values.tolist())"
      ],
      "execution_count": 23,
      "outputs": []
    },
    {
      "cell_type": "code",
      "metadata": {
        "id": "fk3XgwVNXz1J",
        "colab_type": "code",
        "colab": {
          "base_uri": "https://localhost:8080/",
          "height": 34
        },
        "outputId": "997e633f-5327-405c-b0f9-7f25ef3cbf75"
      },
      "source": [
        "train_tfidf.shape"
      ],
      "execution_count": 24,
      "outputs": [
        {
          "output_type": "execute_result",
          "data": {
            "text/plain": [
              "(3235, 743)"
            ]
          },
          "metadata": {
            "tags": []
          },
          "execution_count": 24
        }
      ]
    },
    {
      "cell_type": "markdown",
      "metadata": {
        "id": "x3eUuO_72Sdn",
        "colab_type": "text"
      },
      "source": [
        "### Used SVD for dimension reduction"
      ]
    },
    {
      "cell_type": "code",
      "metadata": {
        "id": "bP4AZXJdUPI0",
        "colab_type": "code",
        "colab": {
          "base_uri": "https://localhost:8080/",
          "height": 34
        },
        "outputId": "8679e957-feec-407f-cdc0-572f81e39038"
      },
      "source": [
        "n_comp = 20\n",
        "svd_obj = TruncatedSVD(n_components=n_comp)\n",
        "svd_obj.fit(full_tfidf)\n",
        "train_svd = pd.DataFrame(svd_obj.transform(train_tfidf))\n",
        "    \n",
        "train_svd.columns = ['svd_word_'+str(i) for i in range(n_comp)]\n",
        "train_svd.shape"
      ],
      "execution_count": 25,
      "outputs": [
        {
          "output_type": "execute_result",
          "data": {
            "text/plain": [
              "(3235, 20)"
            ]
          },
          "metadata": {
            "tags": []
          },
          "execution_count": 25
        }
      ]
    },
    {
      "cell_type": "code",
      "metadata": {
        "id": "17oz9T45fN04",
        "colab_type": "code",
        "colab": {
          "base_uri": "https://localhost:8080/",
          "height": 226
        },
        "outputId": "53f0f3bb-bb01-4209-a161-8656fef0734d"
      },
      "source": [
        "train_svd.head()"
      ],
      "execution_count": 26,
      "outputs": [
        {
          "output_type": "execute_result",
          "data": {
            "text/html": [
              "<div>\n",
              "<style scoped>\n",
              "    .dataframe tbody tr th:only-of-type {\n",
              "        vertical-align: middle;\n",
              "    }\n",
              "\n",
              "    .dataframe tbody tr th {\n",
              "        vertical-align: top;\n",
              "    }\n",
              "\n",
              "    .dataframe thead th {\n",
              "        text-align: right;\n",
              "    }\n",
              "</style>\n",
              "<table border=\"1\" class=\"dataframe\">\n",
              "  <thead>\n",
              "    <tr style=\"text-align: right;\">\n",
              "      <th></th>\n",
              "      <th>svd_word_0</th>\n",
              "      <th>svd_word_1</th>\n",
              "      <th>svd_word_2</th>\n",
              "      <th>svd_word_3</th>\n",
              "      <th>svd_word_4</th>\n",
              "      <th>svd_word_5</th>\n",
              "      <th>svd_word_6</th>\n",
              "      <th>svd_word_7</th>\n",
              "      <th>svd_word_8</th>\n",
              "      <th>svd_word_9</th>\n",
              "      <th>svd_word_10</th>\n",
              "      <th>svd_word_11</th>\n",
              "      <th>svd_word_12</th>\n",
              "      <th>svd_word_13</th>\n",
              "      <th>svd_word_14</th>\n",
              "      <th>svd_word_15</th>\n",
              "      <th>svd_word_16</th>\n",
              "      <th>svd_word_17</th>\n",
              "      <th>svd_word_18</th>\n",
              "      <th>svd_word_19</th>\n",
              "    </tr>\n",
              "  </thead>\n",
              "  <tbody>\n",
              "    <tr>\n",
              "      <th>0</th>\n",
              "      <td>0.142591</td>\n",
              "      <td>-0.152378</td>\n",
              "      <td>0.056307</td>\n",
              "      <td>0.191411</td>\n",
              "      <td>-0.109504</td>\n",
              "      <td>0.113301</td>\n",
              "      <td>-0.066468</td>\n",
              "      <td>0.054877</td>\n",
              "      <td>-0.111543</td>\n",
              "      <td>-0.031708</td>\n",
              "      <td>0.074945</td>\n",
              "      <td>0.009335</td>\n",
              "      <td>-0.044493</td>\n",
              "      <td>-0.033579</td>\n",
              "      <td>-0.094999</td>\n",
              "      <td>-0.016077</td>\n",
              "      <td>-0.072250</td>\n",
              "      <td>-0.001460</td>\n",
              "      <td>-0.013166</td>\n",
              "      <td>-0.142961</td>\n",
              "    </tr>\n",
              "    <tr>\n",
              "      <th>1</th>\n",
              "      <td>0.208979</td>\n",
              "      <td>-0.097382</td>\n",
              "      <td>-0.068211</td>\n",
              "      <td>-0.119214</td>\n",
              "      <td>-0.239220</td>\n",
              "      <td>-0.183640</td>\n",
              "      <td>0.014255</td>\n",
              "      <td>0.098362</td>\n",
              "      <td>0.048657</td>\n",
              "      <td>-0.026128</td>\n",
              "      <td>0.009053</td>\n",
              "      <td>0.052374</td>\n",
              "      <td>0.009375</td>\n",
              "      <td>0.034292</td>\n",
              "      <td>-0.014718</td>\n",
              "      <td>-0.044818</td>\n",
              "      <td>0.035437</td>\n",
              "      <td>0.022652</td>\n",
              "      <td>0.046700</td>\n",
              "      <td>-0.007532</td>\n",
              "    </tr>\n",
              "    <tr>\n",
              "      <th>2</th>\n",
              "      <td>0.157722</td>\n",
              "      <td>-0.136449</td>\n",
              "      <td>-0.025844</td>\n",
              "      <td>-0.026553</td>\n",
              "      <td>0.013663</td>\n",
              "      <td>-0.016886</td>\n",
              "      <td>-0.009849</td>\n",
              "      <td>0.013299</td>\n",
              "      <td>-0.021325</td>\n",
              "      <td>-0.069271</td>\n",
              "      <td>0.013504</td>\n",
              "      <td>-0.023664</td>\n",
              "      <td>-0.082416</td>\n",
              "      <td>-0.029525</td>\n",
              "      <td>-0.040400</td>\n",
              "      <td>-0.025735</td>\n",
              "      <td>-0.025753</td>\n",
              "      <td>-0.015119</td>\n",
              "      <td>-0.011381</td>\n",
              "      <td>-0.115554</td>\n",
              "    </tr>\n",
              "    <tr>\n",
              "      <th>3</th>\n",
              "      <td>0.239855</td>\n",
              "      <td>-0.129350</td>\n",
              "      <td>-0.150307</td>\n",
              "      <td>-0.081994</td>\n",
              "      <td>-0.027129</td>\n",
              "      <td>0.026474</td>\n",
              "      <td>0.040393</td>\n",
              "      <td>-0.397385</td>\n",
              "      <td>-0.188359</td>\n",
              "      <td>0.245772</td>\n",
              "      <td>-0.177066</td>\n",
              "      <td>0.521099</td>\n",
              "      <td>-0.178192</td>\n",
              "      <td>0.000044</td>\n",
              "      <td>-0.024846</td>\n",
              "      <td>-0.065145</td>\n",
              "      <td>-0.081479</td>\n",
              "      <td>-0.138130</td>\n",
              "      <td>-0.157260</td>\n",
              "      <td>0.022818</td>\n",
              "    </tr>\n",
              "    <tr>\n",
              "      <th>4</th>\n",
              "      <td>0.171479</td>\n",
              "      <td>-0.137449</td>\n",
              "      <td>0.025209</td>\n",
              "      <td>-0.047938</td>\n",
              "      <td>-0.089985</td>\n",
              "      <td>0.035515</td>\n",
              "      <td>0.002269</td>\n",
              "      <td>0.004444</td>\n",
              "      <td>0.025182</td>\n",
              "      <td>0.031877</td>\n",
              "      <td>0.018022</td>\n",
              "      <td>0.000139</td>\n",
              "      <td>-0.011833</td>\n",
              "      <td>-0.027184</td>\n",
              "      <td>-0.025025</td>\n",
              "      <td>-0.020331</td>\n",
              "      <td>-0.004059</td>\n",
              "      <td>0.009767</td>\n",
              "      <td>0.049463</td>\n",
              "      <td>-0.011464</td>\n",
              "    </tr>\n",
              "  </tbody>\n",
              "</table>\n",
              "</div>"
            ],
            "text/plain": [
              "   svd_word_0  svd_word_1  svd_word_2  ...  svd_word_17  svd_word_18  svd_word_19\n",
              "0    0.142591   -0.152378    0.056307  ...    -0.001460    -0.013166    -0.142961\n",
              "1    0.208979   -0.097382   -0.068211  ...     0.022652     0.046700    -0.007532\n",
              "2    0.157722   -0.136449   -0.025844  ...    -0.015119    -0.011381    -0.115554\n",
              "3    0.239855   -0.129350   -0.150307  ...    -0.138130    -0.157260     0.022818\n",
              "4    0.171479   -0.137449    0.025209  ...     0.009767     0.049463    -0.011464\n",
              "\n",
              "[5 rows x 20 columns]"
            ]
          },
          "metadata": {
            "tags": []
          },
          "execution_count": 26
        }
      ]
    },
    {
      "cell_type": "code",
      "metadata": {
        "id": "gG8YIrVXqz57",
        "colab_type": "code",
        "colab": {
          "base_uri": "https://localhost:8080/",
          "height": 206
        },
        "outputId": "e26a1a31-ed06-40cd-c57c-ea9116b61329"
      },
      "source": [
        "train.head()"
      ],
      "execution_count": 27,
      "outputs": [
        {
          "output_type": "execute_result",
          "data": {
            "text/html": [
              "<div>\n",
              "<style scoped>\n",
              "    .dataframe tbody tr th:only-of-type {\n",
              "        vertical-align: middle;\n",
              "    }\n",
              "\n",
              "    .dataframe tbody tr th {\n",
              "        vertical-align: top;\n",
              "    }\n",
              "\n",
              "    .dataframe thead th {\n",
              "        text-align: right;\n",
              "    }\n",
              "</style>\n",
              "<table border=\"1\" class=\"dataframe\">\n",
              "  <thead>\n",
              "    <tr style=\"text-align: right;\">\n",
              "      <th></th>\n",
              "      <th>id</th>\n",
              "      <th>original_text</th>\n",
              "      <th>lang</th>\n",
              "      <th>retweet_count</th>\n",
              "      <th>original_author</th>\n",
              "      <th>sentiment_class</th>\n",
              "    </tr>\n",
              "  </thead>\n",
              "  <tbody>\n",
              "    <tr>\n",
              "      <th>0</th>\n",
              "      <td>1.245025e+18</td>\n",
              "      <td>happy mothersday to all you amazing mothers ou...</td>\n",
              "      <td>1</td>\n",
              "      <td>0.0</td>\n",
              "      <td>BeenXXPired</td>\n",
              "      <td>0.0</td>\n",
              "    </tr>\n",
              "    <tr>\n",
              "      <th>1</th>\n",
              "      <td>1.245759e+18</td>\n",
              "      <td>happy mothers day mum im sorry i cant be there...</td>\n",
              "      <td>1</td>\n",
              "      <td>1.0</td>\n",
              "      <td>FestiveFeeling</td>\n",
              "      <td>0.0</td>\n",
              "    </tr>\n",
              "    <tr>\n",
              "      <th>2</th>\n",
              "      <td>1.246087e+18</td>\n",
              "      <td>happy mothers day to all this doing a mothers ...</td>\n",
              "      <td>1</td>\n",
              "      <td>0.0</td>\n",
              "      <td>KrisAllenSak</td>\n",
              "      <td>-1.0</td>\n",
              "    </tr>\n",
              "    <tr>\n",
              "      <th>3</th>\n",
              "      <td>1.244803e+18</td>\n",
              "      <td>happy mothers day to this beautiful womanroyal...</td>\n",
              "      <td>1</td>\n",
              "      <td>0.0</td>\n",
              "      <td>Queenuchee</td>\n",
              "      <td>0.0</td>\n",
              "    </tr>\n",
              "    <tr>\n",
              "      <th>4</th>\n",
              "      <td>1.244876e+18</td>\n",
              "      <td>remembering the most amazing ladies who made m...</td>\n",
              "      <td>1</td>\n",
              "      <td>0.0</td>\n",
              "      <td>brittan17446794</td>\n",
              "      <td>-1.0</td>\n",
              "    </tr>\n",
              "  </tbody>\n",
              "</table>\n",
              "</div>"
            ],
            "text/plain": [
              "             id  ... sentiment_class\n",
              "0  1.245025e+18  ...             0.0\n",
              "1  1.245759e+18  ...             0.0\n",
              "2  1.246087e+18  ...            -1.0\n",
              "3  1.244803e+18  ...             0.0\n",
              "4  1.244876e+18  ...            -1.0\n",
              "\n",
              "[5 rows x 6 columns]"
            ]
          },
          "metadata": {
            "tags": []
          },
          "execution_count": 27
        }
      ]
    },
    {
      "cell_type": "code",
      "metadata": {
        "id": "BqBTcGB1ObPV",
        "colab_type": "code",
        "colab": {}
      },
      "source": [
        "train =  pd.concat([train,train_svd],axis=1)"
      ],
      "execution_count": 28,
      "outputs": []
    },
    {
      "cell_type": "code",
      "metadata": {
        "id": "Pk_2y8chaSxr",
        "colab_type": "code",
        "colab": {}
      },
      "source": [
        "X = train.drop(columns = ['id', 'original_text', 'original_author','sentiment_class'])\n",
        "Y = train['sentiment_class']"
      ],
      "execution_count": 29,
      "outputs": []
    },
    {
      "cell_type": "code",
      "metadata": {
        "id": "EyGAf6wdgaSH",
        "colab_type": "code",
        "colab": {}
      },
      "source": [
        "X = pd.DataFrame(X)\n",
        "Y = pd.DataFrame(Y)"
      ],
      "execution_count": 30,
      "outputs": []
    },
    {
      "cell_type": "code",
      "metadata": {
        "id": "s23Tlb3NnBa1",
        "colab_type": "code",
        "colab": {}
      },
      "source": [
        "X['lang'] = X['lang'].astype(np.int16)\n"
      ],
      "execution_count": 31,
      "outputs": []
    },
    {
      "cell_type": "code",
      "metadata": {
        "id": "QM3_3153sltL",
        "colab_type": "code",
        "colab": {
          "base_uri": "https://localhost:8080/",
          "height": 226
        },
        "outputId": "e6a9ae91-a864-4e8e-9877-24818b81ad6f"
      },
      "source": [
        "X.head()"
      ],
      "execution_count": 32,
      "outputs": [
        {
          "output_type": "execute_result",
          "data": {
            "text/html": [
              "<div>\n",
              "<style scoped>\n",
              "    .dataframe tbody tr th:only-of-type {\n",
              "        vertical-align: middle;\n",
              "    }\n",
              "\n",
              "    .dataframe tbody tr th {\n",
              "        vertical-align: top;\n",
              "    }\n",
              "\n",
              "    .dataframe thead th {\n",
              "        text-align: right;\n",
              "    }\n",
              "</style>\n",
              "<table border=\"1\" class=\"dataframe\">\n",
              "  <thead>\n",
              "    <tr style=\"text-align: right;\">\n",
              "      <th></th>\n",
              "      <th>lang</th>\n",
              "      <th>retweet_count</th>\n",
              "      <th>svd_word_0</th>\n",
              "      <th>svd_word_1</th>\n",
              "      <th>svd_word_2</th>\n",
              "      <th>svd_word_3</th>\n",
              "      <th>svd_word_4</th>\n",
              "      <th>svd_word_5</th>\n",
              "      <th>svd_word_6</th>\n",
              "      <th>svd_word_7</th>\n",
              "      <th>svd_word_8</th>\n",
              "      <th>svd_word_9</th>\n",
              "      <th>svd_word_10</th>\n",
              "      <th>svd_word_11</th>\n",
              "      <th>svd_word_12</th>\n",
              "      <th>svd_word_13</th>\n",
              "      <th>svd_word_14</th>\n",
              "      <th>svd_word_15</th>\n",
              "      <th>svd_word_16</th>\n",
              "      <th>svd_word_17</th>\n",
              "      <th>svd_word_18</th>\n",
              "      <th>svd_word_19</th>\n",
              "    </tr>\n",
              "  </thead>\n",
              "  <tbody>\n",
              "    <tr>\n",
              "      <th>0</th>\n",
              "      <td>1</td>\n",
              "      <td>0.0</td>\n",
              "      <td>0.142591</td>\n",
              "      <td>-0.152378</td>\n",
              "      <td>0.056307</td>\n",
              "      <td>0.191411</td>\n",
              "      <td>-0.109504</td>\n",
              "      <td>0.113301</td>\n",
              "      <td>-0.066468</td>\n",
              "      <td>0.054877</td>\n",
              "      <td>-0.111543</td>\n",
              "      <td>-0.031708</td>\n",
              "      <td>0.074945</td>\n",
              "      <td>0.009335</td>\n",
              "      <td>-0.044493</td>\n",
              "      <td>-0.033579</td>\n",
              "      <td>-0.094999</td>\n",
              "      <td>-0.016077</td>\n",
              "      <td>-0.072250</td>\n",
              "      <td>-0.001460</td>\n",
              "      <td>-0.013166</td>\n",
              "      <td>-0.142961</td>\n",
              "    </tr>\n",
              "    <tr>\n",
              "      <th>1</th>\n",
              "      <td>1</td>\n",
              "      <td>1.0</td>\n",
              "      <td>0.208979</td>\n",
              "      <td>-0.097382</td>\n",
              "      <td>-0.068211</td>\n",
              "      <td>-0.119214</td>\n",
              "      <td>-0.239220</td>\n",
              "      <td>-0.183640</td>\n",
              "      <td>0.014255</td>\n",
              "      <td>0.098362</td>\n",
              "      <td>0.048657</td>\n",
              "      <td>-0.026128</td>\n",
              "      <td>0.009053</td>\n",
              "      <td>0.052374</td>\n",
              "      <td>0.009375</td>\n",
              "      <td>0.034292</td>\n",
              "      <td>-0.014718</td>\n",
              "      <td>-0.044818</td>\n",
              "      <td>0.035437</td>\n",
              "      <td>0.022652</td>\n",
              "      <td>0.046700</td>\n",
              "      <td>-0.007532</td>\n",
              "    </tr>\n",
              "    <tr>\n",
              "      <th>2</th>\n",
              "      <td>1</td>\n",
              "      <td>0.0</td>\n",
              "      <td>0.157722</td>\n",
              "      <td>-0.136449</td>\n",
              "      <td>-0.025844</td>\n",
              "      <td>-0.026553</td>\n",
              "      <td>0.013663</td>\n",
              "      <td>-0.016886</td>\n",
              "      <td>-0.009849</td>\n",
              "      <td>0.013299</td>\n",
              "      <td>-0.021325</td>\n",
              "      <td>-0.069271</td>\n",
              "      <td>0.013504</td>\n",
              "      <td>-0.023664</td>\n",
              "      <td>-0.082416</td>\n",
              "      <td>-0.029525</td>\n",
              "      <td>-0.040400</td>\n",
              "      <td>-0.025735</td>\n",
              "      <td>-0.025753</td>\n",
              "      <td>-0.015119</td>\n",
              "      <td>-0.011381</td>\n",
              "      <td>-0.115554</td>\n",
              "    </tr>\n",
              "    <tr>\n",
              "      <th>3</th>\n",
              "      <td>1</td>\n",
              "      <td>0.0</td>\n",
              "      <td>0.239855</td>\n",
              "      <td>-0.129350</td>\n",
              "      <td>-0.150307</td>\n",
              "      <td>-0.081994</td>\n",
              "      <td>-0.027129</td>\n",
              "      <td>0.026474</td>\n",
              "      <td>0.040393</td>\n",
              "      <td>-0.397385</td>\n",
              "      <td>-0.188359</td>\n",
              "      <td>0.245772</td>\n",
              "      <td>-0.177066</td>\n",
              "      <td>0.521099</td>\n",
              "      <td>-0.178192</td>\n",
              "      <td>0.000044</td>\n",
              "      <td>-0.024846</td>\n",
              "      <td>-0.065145</td>\n",
              "      <td>-0.081479</td>\n",
              "      <td>-0.138130</td>\n",
              "      <td>-0.157260</td>\n",
              "      <td>0.022818</td>\n",
              "    </tr>\n",
              "    <tr>\n",
              "      <th>4</th>\n",
              "      <td>1</td>\n",
              "      <td>0.0</td>\n",
              "      <td>0.171479</td>\n",
              "      <td>-0.137449</td>\n",
              "      <td>0.025209</td>\n",
              "      <td>-0.047938</td>\n",
              "      <td>-0.089985</td>\n",
              "      <td>0.035515</td>\n",
              "      <td>0.002269</td>\n",
              "      <td>0.004444</td>\n",
              "      <td>0.025182</td>\n",
              "      <td>0.031877</td>\n",
              "      <td>0.018022</td>\n",
              "      <td>0.000139</td>\n",
              "      <td>-0.011833</td>\n",
              "      <td>-0.027184</td>\n",
              "      <td>-0.025025</td>\n",
              "      <td>-0.020331</td>\n",
              "      <td>-0.004059</td>\n",
              "      <td>0.009767</td>\n",
              "      <td>0.049463</td>\n",
              "      <td>-0.011464</td>\n",
              "    </tr>\n",
              "  </tbody>\n",
              "</table>\n",
              "</div>"
            ],
            "text/plain": [
              "   lang  retweet_count  svd_word_0  ...  svd_word_17  svd_word_18  svd_word_19\n",
              "0     1            0.0    0.142591  ...    -0.001460    -0.013166    -0.142961\n",
              "1     1            1.0    0.208979  ...     0.022652     0.046700    -0.007532\n",
              "2     1            0.0    0.157722  ...    -0.015119    -0.011381    -0.115554\n",
              "3     1            0.0    0.239855  ...    -0.138130    -0.157260     0.022818\n",
              "4     1            0.0    0.171479  ...     0.009767     0.049463    -0.011464\n",
              "\n",
              "[5 rows x 22 columns]"
            ]
          },
          "metadata": {
            "tags": []
          },
          "execution_count": 32
        }
      ]
    },
    {
      "cell_type": "markdown",
      "metadata": {
        "id": "TpwN2Cny2hQ0",
        "colab_type": "text"
      },
      "source": [
        "## TestSet"
      ]
    },
    {
      "cell_type": "code",
      "metadata": {
        "id": "IUz2ybM1201M",
        "colab_type": "code",
        "colab": {}
      },
      "source": [
        "tfidf_vec = TfidfVectorizer(stop_words='english', \n",
        "                            ngram_range=(1,4), \n",
        "                            analyzer='word',\n",
        "                            max_df = .9,\n",
        "                            use_idf=1, \n",
        "                            sublinear_tf=1, \n",
        "                            min_df = 20, \n",
        "                            strip_accents='ascii')\n",
        "full_tfidf = tfidf_vec.fit_transform(train['original_text'].values.tolist() + test['original_text'].values.tolist())\n",
        "test_tfidf = tfidf_vec.transform(test['original_text'].values.tolist())"
      ],
      "execution_count": 33,
      "outputs": []
    },
    {
      "cell_type": "code",
      "metadata": {
        "id": "1-u_tYGw3CeJ",
        "colab_type": "code",
        "colab": {
          "base_uri": "https://localhost:8080/",
          "height": 34
        },
        "outputId": "bdcd503e-1eaa-40c8-f305-fc9738624bf0"
      },
      "source": [
        "test_tfidf.shape"
      ],
      "execution_count": 34,
      "outputs": [
        {
          "output_type": "execute_result",
          "data": {
            "text/plain": [
              "(1387, 743)"
            ]
          },
          "metadata": {
            "tags": []
          },
          "execution_count": 34
        }
      ]
    },
    {
      "cell_type": "code",
      "metadata": {
        "id": "_w7LAV0h20wn",
        "colab_type": "code",
        "colab": {
          "base_uri": "https://localhost:8080/",
          "height": 34
        },
        "outputId": "552d83ac-09fd-4ca0-8c3d-fd1ffb6e07b0"
      },
      "source": [
        "n_comp = 20\n",
        "svd_obj = TruncatedSVD(n_components=n_comp)\n",
        "svd_obj.fit(full_tfidf)\n",
        "test_svd = pd.DataFrame(svd_obj.transform(test_tfidf))\n",
        "    \n",
        "test_svd.columns = ['svd_word_'+str(i) for i in range(n_comp)]\n",
        "test_svd.shape"
      ],
      "execution_count": 35,
      "outputs": [
        {
          "output_type": "execute_result",
          "data": {
            "text/plain": [
              "(1387, 20)"
            ]
          },
          "metadata": {
            "tags": []
          },
          "execution_count": 35
        }
      ]
    },
    {
      "cell_type": "code",
      "metadata": {
        "id": "eD1nCNS22jwx",
        "colab_type": "code",
        "colab": {}
      },
      "source": [
        "test =  pd.concat([test,test_svd],axis=1)"
      ],
      "execution_count": 36,
      "outputs": []
    },
    {
      "cell_type": "code",
      "metadata": {
        "id": "fTAJNdMegLn5",
        "colab_type": "code",
        "colab": {}
      },
      "source": [
        "test = test.drop(columns = ['id', 'original_text', 'original_author','sentiment_class'])"
      ],
      "execution_count": 37,
      "outputs": []
    },
    {
      "cell_type": "code",
      "metadata": {
        "id": "7ulxhyXF2p7Z",
        "colab_type": "code",
        "colab": {}
      },
      "source": [
        "test['lang'] = test['lang'].astype(np.int16)"
      ],
      "execution_count": 38,
      "outputs": []
    },
    {
      "cell_type": "code",
      "metadata": {
        "id": "ahgnTvnPjkqz",
        "colab_type": "code",
        "colab": {
          "base_uri": "https://localhost:8080/",
          "height": 226
        },
        "outputId": "c231a6ad-8f43-4c21-8183-ee0fcb90fcd6"
      },
      "source": [
        "test.head()"
      ],
      "execution_count": 39,
      "outputs": [
        {
          "output_type": "execute_result",
          "data": {
            "text/html": [
              "<div>\n",
              "<style scoped>\n",
              "    .dataframe tbody tr th:only-of-type {\n",
              "        vertical-align: middle;\n",
              "    }\n",
              "\n",
              "    .dataframe tbody tr th {\n",
              "        vertical-align: top;\n",
              "    }\n",
              "\n",
              "    .dataframe thead th {\n",
              "        text-align: right;\n",
              "    }\n",
              "</style>\n",
              "<table border=\"1\" class=\"dataframe\">\n",
              "  <thead>\n",
              "    <tr style=\"text-align: right;\">\n",
              "      <th></th>\n",
              "      <th>lang</th>\n",
              "      <th>retweet_count</th>\n",
              "      <th>svd_word_0</th>\n",
              "      <th>svd_word_1</th>\n",
              "      <th>svd_word_2</th>\n",
              "      <th>svd_word_3</th>\n",
              "      <th>svd_word_4</th>\n",
              "      <th>svd_word_5</th>\n",
              "      <th>svd_word_6</th>\n",
              "      <th>svd_word_7</th>\n",
              "      <th>svd_word_8</th>\n",
              "      <th>svd_word_9</th>\n",
              "      <th>svd_word_10</th>\n",
              "      <th>svd_word_11</th>\n",
              "      <th>svd_word_12</th>\n",
              "      <th>svd_word_13</th>\n",
              "      <th>svd_word_14</th>\n",
              "      <th>svd_word_15</th>\n",
              "      <th>svd_word_16</th>\n",
              "      <th>svd_word_17</th>\n",
              "      <th>svd_word_18</th>\n",
              "      <th>svd_word_19</th>\n",
              "    </tr>\n",
              "  </thead>\n",
              "  <tbody>\n",
              "    <tr>\n",
              "      <th>0</th>\n",
              "      <td>1</td>\n",
              "      <td>0.0</td>\n",
              "      <td>0.150573</td>\n",
              "      <td>-0.096280</td>\n",
              "      <td>-0.065822</td>\n",
              "      <td>-0.071492</td>\n",
              "      <td>0.011172</td>\n",
              "      <td>-0.015892</td>\n",
              "      <td>0.020760</td>\n",
              "      <td>-0.018532</td>\n",
              "      <td>-0.005965</td>\n",
              "      <td>-0.044454</td>\n",
              "      <td>0.030166</td>\n",
              "      <td>-0.021937</td>\n",
              "      <td>-0.082071</td>\n",
              "      <td>0.004768</td>\n",
              "      <td>-0.019056</td>\n",
              "      <td>0.001566</td>\n",
              "      <td>-0.010417</td>\n",
              "      <td>0.026516</td>\n",
              "      <td>-0.020335</td>\n",
              "      <td>-0.016927</td>\n",
              "    </tr>\n",
              "    <tr>\n",
              "      <th>1</th>\n",
              "      <td>1</td>\n",
              "      <td>0.0</td>\n",
              "      <td>0.231312</td>\n",
              "      <td>-0.155001</td>\n",
              "      <td>0.399951</td>\n",
              "      <td>-0.187264</td>\n",
              "      <td>0.134460</td>\n",
              "      <td>0.015540</td>\n",
              "      <td>-0.127946</td>\n",
              "      <td>-0.046434</td>\n",
              "      <td>0.071313</td>\n",
              "      <td>0.094649</td>\n",
              "      <td>0.252153</td>\n",
              "      <td>0.114730</td>\n",
              "      <td>0.098295</td>\n",
              "      <td>0.028772</td>\n",
              "      <td>0.112993</td>\n",
              "      <td>0.029300</td>\n",
              "      <td>0.162766</td>\n",
              "      <td>0.027881</td>\n",
              "      <td>-0.013063</td>\n",
              "      <td>0.020260</td>\n",
              "    </tr>\n",
              "    <tr>\n",
              "      <th>2</th>\n",
              "      <td>1</td>\n",
              "      <td>0.0</td>\n",
              "      <td>0.224079</td>\n",
              "      <td>-0.166631</td>\n",
              "      <td>0.246108</td>\n",
              "      <td>-0.152146</td>\n",
              "      <td>0.055497</td>\n",
              "      <td>0.006363</td>\n",
              "      <td>-0.107047</td>\n",
              "      <td>-0.063313</td>\n",
              "      <td>-0.003133</td>\n",
              "      <td>0.201987</td>\n",
              "      <td>0.005562</td>\n",
              "      <td>-0.049237</td>\n",
              "      <td>0.044788</td>\n",
              "      <td>0.053639</td>\n",
              "      <td>-0.058054</td>\n",
              "      <td>0.042123</td>\n",
              "      <td>0.029535</td>\n",
              "      <td>-0.144787</td>\n",
              "      <td>-0.105432</td>\n",
              "      <td>0.038604</td>\n",
              "    </tr>\n",
              "    <tr>\n",
              "      <th>3</th>\n",
              "      <td>1</td>\n",
              "      <td>1.0</td>\n",
              "      <td>0.215684</td>\n",
              "      <td>-0.195079</td>\n",
              "      <td>0.006747</td>\n",
              "      <td>0.000887</td>\n",
              "      <td>-0.213392</td>\n",
              "      <td>-0.219859</td>\n",
              "      <td>-0.019505</td>\n",
              "      <td>0.184011</td>\n",
              "      <td>0.083956</td>\n",
              "      <td>-0.099584</td>\n",
              "      <td>-0.038991</td>\n",
              "      <td>0.177777</td>\n",
              "      <td>-0.010905</td>\n",
              "      <td>0.077084</td>\n",
              "      <td>0.125960</td>\n",
              "      <td>0.049236</td>\n",
              "      <td>0.186499</td>\n",
              "      <td>0.028245</td>\n",
              "      <td>-0.082180</td>\n",
              "      <td>-0.119712</td>\n",
              "    </tr>\n",
              "    <tr>\n",
              "      <th>4</th>\n",
              "      <td>1</td>\n",
              "      <td>0.0</td>\n",
              "      <td>0.174001</td>\n",
              "      <td>-0.117727</td>\n",
              "      <td>-0.025549</td>\n",
              "      <td>0.072468</td>\n",
              "      <td>0.102607</td>\n",
              "      <td>0.000046</td>\n",
              "      <td>0.449392</td>\n",
              "      <td>0.018040</td>\n",
              "      <td>0.001002</td>\n",
              "      <td>0.117733</td>\n",
              "      <td>0.052573</td>\n",
              "      <td>-0.058501</td>\n",
              "      <td>0.055549</td>\n",
              "      <td>0.121850</td>\n",
              "      <td>-0.034616</td>\n",
              "      <td>-0.013811</td>\n",
              "      <td>0.012107</td>\n",
              "      <td>0.046415</td>\n",
              "      <td>0.023074</td>\n",
              "      <td>-0.010788</td>\n",
              "    </tr>\n",
              "  </tbody>\n",
              "</table>\n",
              "</div>"
            ],
            "text/plain": [
              "   lang  retweet_count  svd_word_0  ...  svd_word_17  svd_word_18  svd_word_19\n",
              "0     1            0.0    0.150573  ...     0.026516    -0.020335    -0.016927\n",
              "1     1            0.0    0.231312  ...     0.027881    -0.013063     0.020260\n",
              "2     1            0.0    0.224079  ...    -0.144787    -0.105432     0.038604\n",
              "3     1            1.0    0.215684  ...     0.028245    -0.082180    -0.119712\n",
              "4     1            0.0    0.174001  ...     0.046415     0.023074    -0.010788\n",
              "\n",
              "[5 rows x 22 columns]"
            ]
          },
          "metadata": {
            "tags": []
          },
          "execution_count": 39
        }
      ]
    },
    {
      "cell_type": "markdown",
      "metadata": {
        "id": "lVARndIj2w-7",
        "colab_type": "text"
      },
      "source": [
        "# Model Building"
      ]
    },
    {
      "cell_type": "code",
      "metadata": {
        "id": "wA1DCbShjhqh",
        "colab_type": "code",
        "colab": {}
      },
      "source": [
        "lgb = LGBMClassifier(learning_rate= 0.1, \n",
        "                     max_depth= 5, \n",
        "                     n_estimators= 500, \n",
        "                     num_leaves= 32,\n",
        "                     objective='multiclass'\n",
        "                     )"
      ],
      "execution_count": 40,
      "outputs": []
    },
    {
      "cell_type": "code",
      "metadata": {
        "id": "7_hw4CCVbKWh",
        "colab_type": "code",
        "colab": {}
      },
      "source": [
        "# Used 100 Kfold\n",
        "kf = StratifiedKFold(n_splits = 100)\n",
        "i=1\n",
        "prediction= []\n",
        "for model in [lgb]:\n",
        "  for dev_index, val_index in kf.split(X,Y):\n",
        "      print(\"iteration - \", i)\n",
        "      dev_X, val_X = X.iloc[dev_index], X.iloc[val_index]\n",
        "      dev_y, val_y = Y.iloc[dev_index], Y.iloc[val_index]\n",
        "      model.fit(dev_X,dev_y)\n",
        "      prediction.append(model.predict(test))\n",
        "      i+=1"
      ],
      "execution_count": null,
      "outputs": []
    },
    {
      "cell_type": "code",
      "metadata": {
        "id": "49e5NiMMpVwO",
        "colab_type": "code",
        "colab": {}
      },
      "source": [
        "# Use Mode of all predictions\n",
        "pred = pd.DataFrame(prediction).mode(axis=0)"
      ],
      "execution_count": 42,
      "outputs": []
    },
    {
      "cell_type": "code",
      "metadata": {
        "id": "D4WEpOuOp1eV",
        "colab_type": "code",
        "colab": {}
      },
      "source": [
        "pred = pred.loc[0]"
      ],
      "execution_count": 43,
      "outputs": []
    },
    {
      "cell_type": "code",
      "metadata": {
        "id": "WuzXYFgecSFO",
        "colab_type": "code",
        "colab": {
          "base_uri": "https://localhost:8080/",
          "height": 334
        },
        "outputId": "c16325ad-08f7-4da2-9ef1-adfeea9add19"
      },
      "source": [
        "plt.hist(pred)"
      ],
      "execution_count": 44,
      "outputs": [
        {
          "output_type": "execute_result",
          "data": {
            "text/plain": [
              "(array([ 219.,    0.,    0.,    0.,    0., 1057.,    0.,    0.,    0.,\n",
              "         111.]),\n",
              " array([-1. , -0.8, -0.6, -0.4, -0.2,  0. ,  0.2,  0.4,  0.6,  0.8,  1. ]),\n",
              " <a list of 10 Patch objects>)"
            ]
          },
          "metadata": {
            "tags": []
          },
          "execution_count": 44
        },
        {
          "output_type": "display_data",
          "data": {
            "image/png": "[encoded data removed]",
            "text/plain": [
              "<Figure size 432x288 with 1 Axes>"
            ]
          },
          "metadata": {
            "tags": [],
            "needs_background": "light"
          }
        }
      ]
    },
    {
      "cell_type": "code",
      "metadata": {
        "id": "7i_wn8-ccSA8",
        "colab_type": "code",
        "colab": {}
      },
      "source": [
        "sb =  pd.DataFrame({'id':test_id,\n",
        "                   'sentiment_class':pred})"
      ],
      "execution_count": 45,
      "outputs": []
    },
    {
      "cell_type": "code",
      "metadata": {
        "id": "UC9UV4ddiP83",
        "colab_type": "code",
        "colab": {
          "base_uri": "https://localhost:8080/",
          "height": 206
        },
        "outputId": "96c31ad7-c946-4cad-9f0e-6218fc439713"
      },
      "source": [
        "sb.head()"
      ],
      "execution_count": 46,
      "outputs": [
        {
          "output_type": "execute_result",
          "data": {
            "text/html": [
              "<div>\n",
              "<style scoped>\n",
              "    .dataframe tbody tr th:only-of-type {\n",
              "        vertical-align: middle;\n",
              "    }\n",
              "\n",
              "    .dataframe tbody tr th {\n",
              "        vertical-align: top;\n",
              "    }\n",
              "\n",
              "    .dataframe thead th {\n",
              "        text-align: right;\n",
              "    }\n",
              "</style>\n",
              "<table border=\"1\" class=\"dataframe\">\n",
              "  <thead>\n",
              "    <tr style=\"text-align: right;\">\n",
              "      <th></th>\n",
              "      <th>id</th>\n",
              "      <th>sentiment_class</th>\n",
              "    </tr>\n",
              "  </thead>\n",
              "  <tbody>\n",
              "    <tr>\n",
              "      <th>0</th>\n",
              "      <td>1.246628e+18</td>\n",
              "      <td>0.0</td>\n",
              "    </tr>\n",
              "    <tr>\n",
              "      <th>1</th>\n",
              "      <td>1.245898e+18</td>\n",
              "      <td>0.0</td>\n",
              "    </tr>\n",
              "    <tr>\n",
              "      <th>2</th>\n",
              "      <td>1.244717e+18</td>\n",
              "      <td>0.0</td>\n",
              "    </tr>\n",
              "    <tr>\n",
              "      <th>3</th>\n",
              "      <td>1.245730e+18</td>\n",
              "      <td>0.0</td>\n",
              "    </tr>\n",
              "    <tr>\n",
              "      <th>4</th>\n",
              "      <td>1.244636e+18</td>\n",
              "      <td>0.0</td>\n",
              "    </tr>\n",
              "  </tbody>\n",
              "</table>\n",
              "</div>"
            ],
            "text/plain": [
              "             id  sentiment_class\n",
              "0  1.246628e+18              0.0\n",
              "1  1.245898e+18              0.0\n",
              "2  1.244717e+18              0.0\n",
              "3  1.245730e+18              0.0\n",
              "4  1.244636e+18              0.0"
            ]
          },
          "metadata": {
            "tags": []
          },
          "execution_count": 46
        }
      ]
    },
    {
      "cell_type": "code",
      "metadata": {
        "id": "lWqfIRifiWbY",
        "colab_type": "code",
        "colab": {}
      },
      "source": [
        "sb.to_csv('Submit_sol.csv',index=False)"
      ],
      "execution_count": 47,
      "outputs": []
    }
  ]
}